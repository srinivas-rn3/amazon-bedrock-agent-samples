{
 "cells": [
  {
   "cell_type": "markdown",
   "id": "8ca1da51-7c82-4ba7-ab77-7c8688cc0a7d",
   "metadata": {},
   "source": [
    "# Utilize LangChain Tools with Amazon Bedrock Inline Agents"
   ]
  },
  {
   "cell_type": "markdown",
   "id": "7225f512-d465-494a-aa74-af57a3789b95",
   "metadata": {},
   "source": [
    "#### In this code example we will orchestrate a workflow that utilizes LangChain tools like [TavilySearchResults](https://python.langchain.com/docs/integrations/tools/tavily_search/), [WikipediaQueryRun](https://api.python.langchain.com/en/latest/tools/langchain_community.tools.wikipedia.tool.WikipediaQueryRun.html), and [FileManagementToolkit](https://python.langchain.com/docs/integrations/tools/filesystem/), along with Amazon Bedrock Inline Agents. "
   ]
  },
  {
   "cell_type": "markdown",
   "id": "7c7000eb-2f07-4bc9-83b6-919b4d1a34f4",
   "metadata": {},
   "source": [
    "![](./architecture.png)"
   ]
  },
  {
   "cell_type": "markdown",
   "id": "9d6613b8-50b8-4927-85d8-61221851154f",
   "metadata": {},
   "source": [
    "#### For a full list of LangChain tools refer to the guide [here](https://python.langchain.com/docs/integrations/tools/)."
   ]
  },
  {
   "cell_type": "code",
   "execution_count": null,
   "id": "f79c604d-b28d-4690-91a2-8118805ee4ad",
   "metadata": {
    "scrolled": true
   },
   "outputs": [],
   "source": [
    "!pip install -U boto3 langchain-community termcolor wikipedia"
   ]
  },
  {
   "cell_type": "code",
   "execution_count": 2,
   "id": "dc487258-e92f-4367-9220-fb205bff7cdc",
   "metadata": {},
   "outputs": [],
   "source": [
    "%load_ext autoreload"
   ]
  },
  {
   "cell_type": "code",
   "execution_count": 3,
   "id": "955c0183-bc34-47f1-87ed-9106cd457b61",
   "metadata": {},
   "outputs": [],
   "source": [
    "%autoreload 2"
   ]
  },
  {
   "cell_type": "markdown",
   "id": "bf895618-8265-496d-8af8-b72a50a7f5ca",
   "metadata": {},
   "source": [
    "## Import Libraries"
   ]
  },
  {
   "cell_type": "code",
   "execution_count": 4,
   "id": "fcbd9346-7f20-4b2f-b0df-a0e3fde6cb17",
   "metadata": {},
   "outputs": [],
   "source": [
    "import getpass\n",
    "import os\n",
    "\n",
    "from utility import (\n",
    "    process_trace,\n",
    "    invoke_inline_agent_helper,\n",
    "    create_parameters,\n",
    "    invoke_agent_with_roc,\n",
    ")"
   ]
  },
  {
   "cell_type": "markdown",
   "id": "fd75bfe8-8586-4e9b-a38d-8afecaf0f0ae",
   "metadata": {},
   "source": [
    "## Tavily WebSearch tool"
   ]
  },
  {
   "cell_type": "markdown",
   "id": "325345fe-fdf7-44c3-b52c-2af57b96b6c2",
   "metadata": {},
   "source": [
    "#### Pass the TAVILY API KEY, get started [here](https://tavily.com/)."
   ]
  },
  {
   "cell_type": "code",
   "execution_count": null,
   "id": "a4013dea-a0aa-4787-a5e3-36b4314e91f4",
   "metadata": {},
   "outputs": [],
   "source": [
    "os.environ[\"TAVILY_API_KEY\"] = getpass.getpass()"
   ]
  },
  {
   "cell_type": "code",
   "execution_count": 6,
   "id": "da8a4071-89b3-4db7-8da7-c053058e043d",
   "metadata": {},
   "outputs": [],
   "source": [
    "from langchain_community.tools.tavily_search import TavilySearchResults\n",
    "from langchain_community.tools import WikipediaQueryRun\n",
    "from langchain_community.utilities import WikipediaAPIWrapper\n",
    "from langchain_community.agent_toolkits import FileManagementToolkit\n",
    "\n",
    "\n",
    "tavily_search = TavilySearchResults()\n",
    "\n",
    "wikipedia_query_runner = WikipediaQueryRun(\n",
    "    api_wrapper=WikipediaAPIWrapper(top_k_results=1, doc_content_chars_max=100)\n",
    ")\n",
    "\n",
    "file_management_toolkit = FileManagementToolkit(\n",
    "    root_dir=str(\"dataset\"),\n",
    "    selected_tools=[\"read_file\"],\n",
    ")  # If you don't provide a root_dir, operations will default to the current working directory\n",
    "\n",
    "read_file_tool = file_management_toolkit.get_tools()[0]"
   ]
  },
  {
   "cell_type": "code",
   "execution_count": 7,
   "id": "d284126f-7e1a-40cf-97c5-9e1649c8c3f8",
   "metadata": {},
   "outputs": [],
   "source": [
    "tool_list = {\n",
    "    tavily_search.get_name(): tavily_search,\n",
    "    wikipedia_query_runner.get_name(): wikipedia_query_runner,\n",
    "    read_file_tool.get_name(): read_file_tool,\n",
    "}"
   ]
  },
  {
   "cell_type": "code",
   "execution_count": null,
   "id": "9ad2bed3-5021-4a34-9f6e-de988dd56e10",
   "metadata": {},
   "outputs": [],
   "source": [
    "tool_list"
   ]
  },
  {
   "cell_type": "code",
   "execution_count": 9,
   "id": "576c6bd8-c6e1-49d4-9d0c-80c5901b55b3",
   "metadata": {},
   "outputs": [],
   "source": [
    "actionGroups = [\n",
    "    {\n",
    "        \"actionGroupExecutor\": {\n",
    "            \"customControl\": \"RETURN_CONTROL\",  # configure roc\n",
    "        },\n",
    "        \"actionGroupName\": \"WebSearchActionGroup\",\n",
    "        \"functionSchema\": {\n",
    "            \"functions\": [\n",
    "                {\n",
    "                    \"description\": tavily_search.description,\n",
    "                    \"name\": tavily_search.get_name(),\n",
    "                    \"parameters\": create_parameters(tavily_search),\n",
    "                    \"requireConfirmation\": \"DISABLED\",\n",
    "                },\n",
    "                {\n",
    "                    \"description\": wikipedia_query_runner.description,\n",
    "                    \"name\": wikipedia_query_runner.get_name(),\n",
    "                    \"parameters\": create_parameters(wikipedia_query_runner),\n",
    "                    \"requireConfirmation\": \"DISABLED\",\n",
    "                },\n",
    "            ]\n",
    "        },\n",
    "    },\n",
    "    {\n",
    "        \"actionGroupExecutor\": {\n",
    "            \"customControl\": \"RETURN_CONTROL\",  # configure roc\n",
    "        },\n",
    "        \"actionGroupName\": \"DocumentSearchActionGroup\",\n",
    "        \"functionSchema\": {\n",
    "            \"functions\": [\n",
    "                {\n",
    "                    \"description\": \"Search Amazon's 2022 Shareholder letter\",\n",
    "                    \"name\": read_file_tool.get_name(),\n",
    "                    \"requireConfirmation\": \"DISABLED\",\n",
    "                },\n",
    "            ]\n",
    "        },\n",
    "    },\n",
    "]"
   ]
  },
  {
   "cell_type": "markdown",
   "id": "44da4b0f-723d-4e2e-8760-43d87cf1cf61",
   "metadata": {},
   "source": [
    "## Inline Agents"
   ]
  },
  {
   "cell_type": "code",
   "execution_count": 10,
   "id": "8b48c943-8044-4fa2-870f-b8ad66a4cd95",
   "metadata": {},
   "outputs": [],
   "source": [
    "# change model id as needed:\n",
    "model_id = \"anthropic.claude-3-sonnet-20240229-v1:0\"\n",
    "\n",
    "# customize instructions of inline agent:\n",
    "agent_instruction = \"\"\"You are a helpful AI assistant that provides users with latest updates in Generative Ai.\"\"\""
   ]
  },
  {
   "cell_type": "markdown",
   "id": "554bdc79-54da-46c3-8672-29b31c80a9b4",
   "metadata": {},
   "source": [
    "### Example 1- Tavily Web Search Tool"
   ]
  },
  {
   "cell_type": "code",
   "execution_count": null,
   "id": "443c60e9-2cc8-4d5c-a9ba-f9a613627f0f",
   "metadata": {},
   "outputs": [],
   "source": [
    "invoke_agent_with_roc(\n",
    "    actionGroups,\n",
    "    agent_instruction,\n",
    "    model_id,\n",
    "    \"Tell me top 5 latest products in Generative Ai.\",\n",
    "    tool_list,\n",
    ")"
   ]
  },
  {
   "cell_type": "markdown",
   "id": "4c6d5a06-8667-484f-a640-266aa9f9e5bf",
   "metadata": {},
   "source": [
    "### Example 2- Read Local File Tool"
   ]
  },
  {
   "cell_type": "code",
   "execution_count": null,
   "id": "3947b4d3-d6bf-4e42-820b-4e5e7ab36e3c",
   "metadata": {},
   "outputs": [],
   "source": [
    "invoke_agent_with_roc(\n",
    "    actionGroups,\n",
    "    agent_instruction,\n",
    "    model_id,\n",
    "    \"What is Amazon doing in field of Generative Ai.\",\n",
    "    tool_list,\n",
    ")"
   ]
  },
  {
   "cell_type": "markdown",
   "id": "803ffce9-e1e0-4b5c-a6dd-b41ee7220501",
   "metadata": {},
   "source": [
    "### Example 3- Wikipedia tool"
   ]
  },
  {
   "cell_type": "code",
   "execution_count": null,
   "id": "17221861-6e13-482b-8241-dac31b13c1c3",
   "metadata": {},
   "outputs": [],
   "source": [
    "invoke_agent_with_roc(\n",
    "    actionGroups, agent_instruction, model_id, \"Who is Andrew Ng?\", tool_list\n",
    ")"
   ]
  },
  {
   "cell_type": "code",
   "execution_count": null,
   "id": "0c584050-4c74-42fb-8248-85294b234a34",
   "metadata": {},
   "outputs": [],
   "source": []
  }
 ],
 "metadata": {
  "kernelspec": {
   "display_name": "Python 3 (ipykernel)",
   "language": "python",
   "name": "python3"
  },
  "language_info": {
   "codemirror_mode": {
    "name": "ipython",
    "version": 3
   },
   "file_extension": ".py",
   "mimetype": "text/x-python",
   "name": "python",
   "nbconvert_exporter": "python",
   "pygments_lexer": "ipython3",
   "version": "3.10.14"
  }
 },
 "nbformat": 4,
 "nbformat_minor": 5
}
