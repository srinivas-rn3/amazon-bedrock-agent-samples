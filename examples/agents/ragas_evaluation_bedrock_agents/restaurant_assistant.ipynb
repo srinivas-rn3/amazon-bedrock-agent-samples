{
 "cells": [
  {
   "cell_type": "markdown",
   "id": "fb8d63a2-913e-498a-a01a-5e66a39bf3e7",
   "metadata": {
    "pycharm": {
     "name": "#%% md\n"
    }
   },
   "source": [
    "# Evaluating your Amazon Bedrock Agent with Ragas"
   ]
  },
  {
   "cell_type": "markdown",
   "id": "63678eaa-8830-4cbe-94af-5ebd8b0e03e0",
   "metadata": {
    "pycharm": {
     "name": "#%% md\n"
    }
   },
   "source": [
    "## Introduction\n",
    "\n",
    "This notebook demonstrates a Restaurant Booking Agent built with Amazon Bedrock Agents and RAGAS evaluation framework. \n",
    "We build a restaurant Booking agent, with two primary functions: \n",
    "1. Retrieving menu information from an Amazon Bedrock Knowledge Base\n",
    "2. Processing table reservations through an Amazon DynamoDB database. \n",
    "\n",
    "When customers make requests, the agent automatically determines which tools to use and executes the appropriate actions through AWS Lambda functions via action groups. \n",
    "\n",
    "The evaluation provides quantitative measures of how well our agent performs its tasks, helping identify strengths and areas for improvement.\n",
    "\n",
    "#### Agent Architecture \n",
    "This is how our Agent architecture looks like:\n",
    "\n",
    "<div style=\"text-align:left\">\n",
    "    <img src=\"images/architecture.png\" width=\"65%\" />\n",
    "</div>\n",
    "\n"
   ]
  },
  {
   "cell_type": "markdown",
   "id": "b3ba49fa-3293-4ea6-8dee-fb9f410c6481",
   "metadata": {
    "pycharm": {
     "name": "#%% md\n"
    }
   },
   "source": [
    "## Setup\n",
    "\n",
    "Let's install the required libraries, including latest boto3 and ragas python package."
   ]
  },
  {
   "cell_type": "code",
   "execution_count": null,
   "id": "20b72889",
   "metadata": {
    "pycharm": {
     "name": "#%%\n"
    }
   },
   "outputs": [],
   "source": [
    "!pip install --upgrade -q -r requirements.txt"
   ]
  },
  {
   "cell_type": "markdown",
   "id": "ccf37dd5-bfaf-4563-a6ad-f9d7637c6e43",
   "metadata": {
    "pycharm": {
     "name": "#%% md\n"
    }
   },
   "source": [
    "## Creating Agent\n",
    "\n",
    "First, we declare global variables that will be act as helpers for the entire notebook. After that, we will start to create our Agent."
   ]
  },
  {
   "cell_type": "code",
   "execution_count": null,
   "id": "277a742a-5f17-4dfc-ac36-1b70ce8f4f7d",
   "metadata": {
    "pycharm": {
     "name": "#%%\n"
    }
   },
   "outputs": [],
   "source": [
    "import boto3\n",
    "import os\n",
    "import uuid\n",
    "import time\n",
    "\n",
    "sts_client = boto3.client('sts')\n",
    "session = boto3.session.Session()\n",
    "\n",
    "account_id = sts_client.get_caller_identity()[\"Account\"]\n",
    "region = session.region_name\n",
    "account_id_suffix = account_id[:3]\n",
    "agent_suffix = f\"{region}-{account_id_suffix}\"\n",
    "s3_client = boto3.client('s3', region)\n",
    "bedrock_client = boto3.client('bedrock-runtime', region)\n",
    "\n",
    "agent_foundation_model = [\n",
    "    'us.anthropic.claude-3-5-sonnet-20240620-v1:0',\n",
    "    'us.anthropic.claude-3-5-haiku-20241022-v1:0'\n",
    "]"
   ]
  },
  {
   "cell_type": "code",
   "execution_count": null,
   "id": "a27cc6c8-4faa-4adc-90c8-7ace112877e1",
   "metadata": {
    "pycharm": {
     "name": "#%%\n"
    }
   },
   "outputs": [],
   "source": [
    "# Define variables for the agent and its resources\n",
    "agent_name = f\"rest-{agent_suffix}\"\n",
    "lambda_name = f\"rest-{agent_suffix}\"\n",
    "\n",
    "agent_role_name = f'AmazonBedrockExecutionRoleForAgents_{agent_name}'\n",
    "\n",
    "dynamodb_table = f\"{agent_name}-table\"\n",
    "dynamodb_pk = \"booking_id\"\n",
    "dynamodb_sk = \"restaurant_name\"\n",
    "\n",
    "dynamoDB_args = [dynamodb_table, dynamodb_pk, dynamodb_sk]\n",
    "\n",
    "knowledge_base_name = f'{agent_name}-kb'\n",
    "suffix = f\"{region}-{account_id}\"\n",
    "\n",
    "knowledge_base_description = \"KB to reply to questions about the restaurants and their menus\"\n",
    "bucket_name = f'restaurant-kb-{suffix}'"
   ]
  },
  {
   "cell_type": "markdown",
   "id": "5b41a37c",
   "metadata": {
    "pycharm": {
     "name": "#%% md\n"
    }
   },
   "source": [
    "### Importing helper functions\n",
    "\n",
    "In the following section, we're adding `bedrock_agent_helper.py` and `knowledge_base_helper.py` on Python path, so that these two files can be recognized, and their functionalities can be used by importing the helper classes.\n",
    "\n",
    "Those two helper classes handle the interactions with Amazon Bedrock. Using the helper classes, you'd import the following methods in this lab:\n",
    "\n",
    "In `bedrock_agent_helper`:\n",
    "- `create_agent`: Create a new agent and respective IAM roles\n",
    "- `add_action_group_with_lambda`: Create a lambda function and add it as an action group for a previous created agent\n",
    "- `create_agent_alias`: Create an alias for this agent\n",
    "- `invoke`: Execute agent\n",
    "\n",
    "In `knowledge_base_helper` :\n",
    "- `create_or_retrieve_knowledge_base`: Create Knowledge Base on Amazon Bedrock if it doesn't exist or get info about previous created.\n",
    "- `synchronize_data`: Read files on S3, convert text info into vectors and add that information on Vector Database."
   ]
  },
  {
   "cell_type": "code",
   "execution_count": null,
   "id": "de912e83-e8c1-4bd7-adb7-9ad232e13b56",
   "metadata": {
    "pycharm": {
     "name": "#%%\n"
    }
   },
   "outputs": [],
   "source": [
    "import sys\n",
    "import sys\n",
    "import os\n",
    "\n",
    "# Get the current working directory and navigate to the project root\n",
    "current_dir = os.path.dirname(os.path.abspath(\n",
    "    __file__ if '__file__' in globals() else os.getcwd()\n",
    "))\n",
    "\n",
    "# Navigate up to the project root \n",
    "project_root = os.path.join(current_dir, '..', '..')\n",
    "project_root = os.path.abspath(project_root)\n",
    "\n",
    "# Add the src directory to Python path\n",
    "src_path = os.path.join(project_root, 'src')\n",
    "sys.path.insert(0, src_path)\n",
    "\n",
    "from utils.bedrock_agent_helper import (\n",
    "    AgentsForAmazonBedrock\n",
    ")\n",
    "from utils.knowledge_base_helper import (\n",
    "    KnowledgeBasesForAmazonBedrock\n",
    ")\n",
    "agents = AgentsForAmazonBedrock()\n",
    "kb = KnowledgeBasesForAmazonBedrock()"
   ]
  },
  {
   "cell_type": "markdown",
   "id": "f455fe28",
   "metadata": {
    "pycharm": {
     "name": "#%% md\n"
    }
   },
   "source": [
    "## Create and Load Knowledge Base\n",
    "\n",
    "In this section, let's create a Amazon Bedrock Knowledge Base and ingest data in it. \n",
    "\n",
    "In the next steps we will generate the data used to populate the knowledge base. It will be composed of instructions on how to handle a solar panel\n",
    "\n",
    "**Note: This creation process takes several minutes.**"
   ]
  },
  {
   "cell_type": "code",
   "execution_count": null,
   "id": "040e3a76",
   "metadata": {
    "pycharm": {
     "name": "#%%\n"
    }
   },
   "outputs": [],
   "source": [
    "%%time\n",
    "kb_id, ds_id = kb.create_or_retrieve_knowledge_base(\n",
    "    knowledge_base_name,\n",
    "    knowledge_base_description,\n",
    "    bucket_name\n",
    ")\n",
    "\n",
    "print(f\"Knowledge Base ID: {kb_id}\")\n",
    "print(f\"Data Source ID: {ds_id}\")"
   ]
  },
  {
   "cell_type": "markdown",
   "id": "a6f04f9e",
   "metadata": {
    "pycharm": {
     "name": "#%% md\n"
    }
   },
   "source": [
    "### Create Synthetic Data to Load on S3\n",
    "\n",
    "Instead of get data elsewhere, Let's generate synthetic data, using a LLM on Amazon Bedrock.\n",
    "This synthetic data that will be generated, will be uploaded into a S3 bucket and then added into a **Amazon Bedrock Knowledge Base**."
   ]
  },
  {
   "cell_type": "code",
   "execution_count": null,
   "id": "f9c9b44c",
   "metadata": {
    "pycharm": {
     "name": "#%%\n"
    }
   },
   "outputs": [],
   "source": [
    "path = \"kb_documents\"\n",
    "# Check whether the specified path exists or not\n",
    "isExist = os.path.exists(path)\n",
    "if not isExist:\n",
    "   # Create a n ew directory if it does not exist\n",
    "   os.makedirs(path)\n",
    "   print(\"The {} directory was created!\".format(path))\n",
    "else:\n",
    "   print(\"The {} directory already exists!\".format(path))"
   ]
  },
  {
   "cell_type": "markdown",
   "id": "d34e2b5a",
   "metadata": {
    "pycharm": {
     "name": "#%% md\n"
    }
   },
   "source": [
    "### Upload data to S3\n",
    "Uploading generated files into S3 Bucket."
   ]
  },
  {
   "cell_type": "code",
   "execution_count": null,
   "id": "9796eaa4",
   "metadata": {
    "pycharm": {
     "name": "#%%\n"
    }
   },
   "outputs": [],
   "source": [
    "def upload_directory(path, bucket_name):\n",
    "    for root,dirs,files in os.walk(path):\n",
    "        for file in files:\n",
    "            file_to_upload = os.path.join(root,file)\n",
    "            print(f\"uploading file {file_to_upload} to {bucket_name}\")\n",
    "            s3_client.upload_file(file_to_upload,bucket_name,file)"
   ]
  },
  {
   "cell_type": "markdown",
   "id": "2bbde4b1-7576-42ac-b371-621e3162380d",
   "metadata": {
    "pycharm": {
     "name": "#%% md\n"
    }
   },
   "source": [
    "### Synchronize with the Knowledge Base\n",
    "Now that the data is available in the s3 bucket, let's synchronize it to our knowledge base"
   ]
  },
  {
   "cell_type": "code",
   "execution_count": null,
   "id": "e9cb3260",
   "metadata": {
    "pycharm": {
     "name": "#%%\n"
    }
   },
   "outputs": [],
   "source": [
    "upload_directory(\"kb_documents\", bucket_name)\n",
    "\n",
    "# sync knowledge base\n",
    "kb.synchronize_data(kb_id, ds_id)"
   ]
  },
  {
   "cell_type": "markdown",
   "id": "c7593e31",
   "metadata": {
    "pycharm": {
     "name": "#%% md\n"
    }
   },
   "source": [
    "## Create Agent\n",
    "\n",
    "Now that we have the data setup, lets start creating the Restaurant Agent that will have a **Knowledge Base** and a **Lambda Action Group** to handle exception workflow (when information is not found on KB).\n",
    "\n",
    "For this agent we will use the following instructions:\n",
    "```\n",
    "  You are a \"Restaurant Helper\", a restaurant assistant helping customers reserving tables in \n",
    "  different restaurants. You can talk about the menus, create new bookings, get the details of an existing booking \n",
    "  or delete an existing reservation. You reply always politely and mention your name in the reply (Restaurant Helper). \n",
    "  NEVER skip your name in the start of a new conversation. If customers ask about anything that you cannot reply, \n",
    "  please provide the following phone number for a more personalized experience: +1 999-999-9999.\n",
    "  \n",
    "  Some information that will be useful to answer your customer's questions:\n",
    "  Restaurant Helper Address: 101W 87th Street, 100024, New York, New York\n",
    "  You should only contact restaurant helper for technical support.\n",
    "  Before making a reservation, make sure that the restaurant exists in our restaurant directory.\n",
    "  \n",
    "  ALWAYS use the greeting agent to say hi in the first conversation.\n",
    "```\n",
    "\n",
    "\n",
    "We will also connect a knowledge base with the information about Restaurant menus with the following instructuctions:\n",
    "\n",
    "```\n",
    "Use the knowledge base retrieval to reply to questions about the restaurants and their menus.\n",
    "```\n"
   ]
  },
  {
   "cell_type": "code",
   "execution_count": null,
   "id": "864e39d7",
   "metadata": {
    "pycharm": {
     "name": "#%%\n"
    }
   },
   "outputs": [],
   "source": [
    "kb_info = kb.get_kb(kb_id)\n",
    "kb_arn = kb_info['knowledgeBase']['knowledgeBaseArn']"
   ]
  },
  {
   "cell_type": "code",
   "execution_count": null,
   "id": "9e265f56",
   "metadata": {
    "pycharm": {
     "name": "#%%\n"
    }
   },
   "outputs": [],
   "source": [
    "kb_config = {\n",
    "    'kb_id': kb_id,\n",
    "    'kb_instruction': 'Use the knowledge base retrieval to reply to questions about the restaurants and their menus.'\n",
    "}"
   ]
  },
  {
   "cell_type": "code",
   "execution_count": null,
   "id": "e1e168c8-180f-4977-96dd-d8006436208b",
   "metadata": {
    "pycharm": {
     "name": "#%%\n"
    }
   },
   "outputs": [],
   "source": [
    "agent_instruction = \"\"\"You are \\\"Restaurant Helper\\\", a restaurant assistant helping customers reserving tables in \n",
    "  different restaurants. You can talk about the menus, create new bookings, get the details of an existing booking \n",
    "  or delete an existing reservation. You reply always politely and mention your name in the reply (Restaurant Helper). \n",
    "  NEVER skip your name in the start of a new conversation. If customers ask about anything that you cannot reply, \n",
    "  please provide the following phone number for a more personalized experience: +1 999 999 99 9999.\n",
    "\n",
    "  Some information that will be useful to answer your customer's questions:\n",
    "  Restaurant Helper Address: 101W 87th Street, 100024, New York, New York\n",
    "  You should only contact restaurant helper for technical support.\n",
    "  Before making a reservation, make sure that the restaurant exists in our restaurant directory.\n",
    "\n",
    "  ALWAYS use the greeting agent to say hi in the first conversation.\"\"\"\n",
    "\n",
    "agent_description = \"\"\"Restaurant Assistant agent\"\"\"\n",
    "\n",
    "restaurant_agent = agents.create_agent(\n",
    "    agent_name,\n",
    "    agent_description,\n",
    "    agent_instruction,\n",
    "    agent_foundation_model,\n",
    "    kb_arns=[kb_arn]\n",
    ")\n",
    "restaurant_agent"
   ]
  },
  {
   "cell_type": "code",
   "execution_count": null,
   "id": "d2cfc71d-4b0e-4b00-9159-cc3efd2becbc",
   "metadata": {
    "pycharm": {
     "name": "#%%\n"
    }
   },
   "outputs": [],
   "source": [
    "time.sleep(60)\n",
    "agents.associate_kb_with_agent(\n",
    "    restaurant_agent[0], kb_config['kb_instruction'], kb_config['kb_id']\n",
    ")"
   ]
  },
  {
   "cell_type": "markdown",
   "id": "f595c535",
   "metadata": {
    "pycharm": {
     "name": "#%% md\n"
    }
   },
   "source": [
    "### Create Lambda Action Group for the Agent\n",
    "\n",
    "In this section, we're going create an action group to handle restaurant booking and associate it with our agent. To do so:\n",
    "\n",
    "1. We create a Lambda function code to fulfill the execution of the agent's actions. \n",
    "2. We define the actions available actions that an agent can take using function details. You can also define the actions available using OpenAPI Schema.\n",
    "3. Associate the lambda action group to the agent\n",
    "\n",
    "#### Step 1: Create Lambda function\n",
    "The agent is equipped with three key actions defined in the Action Group:\n",
    "- `get_booking_details`: to get the relevant details for booking_id in restaurant_name\n",
    "- `create_booking`: to create a new booking at restaurant_name\n",
    "- `delete_booking`: to delete an existing booking_id at restaurant_name\n",
    "\n",
    "These actions are implemented through a **Lambda function** that interacts with a DynamoDB table to store and retrieve booking information."
   ]
  },
  {
   "cell_type": "code",
   "execution_count": null,
   "id": "7086a3ba",
   "metadata": {
    "pycharm": {
     "name": "#%%\n"
    }
   },
   "outputs": [],
   "source": [
    "%%writefile lambda_function.py\n",
    "import json\n",
    "import uuid\n",
    "import boto3\n",
    "\n",
    "dynamodb = boto3.resource('dynamodb')\n",
    "table = dynamodb.Table('restaurant_bookings')\n",
    "\n",
    "def get_named_parameter(event, name):\n",
    "    \"\"\"\n",
    "    Get a parameter from the lambda event\n",
    "    \"\"\"\n",
    "    return next(item for item in event['parameters'] if item['name'] == name)['value']\n",
    "\n",
    "\n",
    "def get_booking_details(booking_id):\n",
    "    \"\"\"\n",
    "    Retrieve details of a restaurant booking\n",
    "    \n",
    "    Args:\n",
    "        booking_id (string): The ID of the booking to retrieve\n",
    "    \"\"\"\n",
    "    try:\n",
    "        response = table.get_item(Key={'booking_id': booking_id})\n",
    "        if 'Item' in response:\n",
    "            return response['Item']\n",
    "        else:\n",
    "            return {'message': f'No booking found with ID {booking_id}'}\n",
    "    except Exception as e:\n",
    "        return {'error': str(e)}\n",
    "\n",
    "\n",
    "def create_booking(date, name, hour, num_guests):\n",
    "    \"\"\"\n",
    "    Create a new restaurant booking\n",
    "    \n",
    "    Args:\n",
    "        date (string): The date of the booking\n",
    "        name (string): Name to idenfity your reservation\n",
    "        hour (string): The hour of the booking\n",
    "        num_guests (integer): The number of guests for the booking\n",
    "    \"\"\"\n",
    "    try:\n",
    "        booking_id = str(uuid.uuid4())[:8]\n",
    "        table.put_item(\n",
    "            Item={\n",
    "                'booking_id': booking_id,\n",
    "                'date': date,\n",
    "                'name': name,\n",
    "                'hour': hour,\n",
    "                'num_guests': num_guests\n",
    "            }\n",
    "        )\n",
    "        return {'booking_id': booking_id}\n",
    "    except Exception as e:\n",
    "        return {'error': str(e)}\n",
    "\n",
    "\n",
    "def delete_booking(booking_id):\n",
    "    \"\"\"\n",
    "    Delete an existing restaurant booking\n",
    "    \n",
    "    Args:\n",
    "        booking_id (str): The ID of the booking to delete\n",
    "    \"\"\"\n",
    "    try:\n",
    "        response = table.delete_item(Key={'booking_id': booking_id})\n",
    "        if response['ResponseMetadata']['HTTPStatusCode'] == 200:\n",
    "            return {'message': f'Booking with ID {booking_id} deleted successfully'}\n",
    "        else:\n",
    "            return {'message': f'Failed to delete booking with ID {booking_id}'}\n",
    "    except Exception as e:\n",
    "        return {'error': str(e)}\n",
    "    \n",
    "\n",
    "def lambda_handler(event, context):\n",
    "    # get the action group used during the invocation of the lambda function\n",
    "    actionGroup = event.get('actionGroup', '')\n",
    "    \n",
    "    # name of the function that should be invoked\n",
    "    function = event.get('function', '')\n",
    "    \n",
    "    # parameters to invoke function with\n",
    "    parameters = event.get('parameters', [])\n",
    "\n",
    "    if function == 'get_booking_details':\n",
    "        booking_id = get_named_parameter(event, \"booking_id\")\n",
    "        if booking_id:\n",
    "            response = str(get_booking_details(booking_id))\n",
    "            responseBody = {'TEXT': {'body': json.dumps(response)}}\n",
    "        else:\n",
    "            responseBody = {'TEXT': {'body': 'Missing booking_id parameter'}}\n",
    "\n",
    "    elif function == 'create_booking':\n",
    "        date = get_named_parameter(event, \"date\")\n",
    "        name = get_named_parameter(event, \"name\")\n",
    "        hour = get_named_parameter(event, \"hour\")\n",
    "        num_guests = get_named_parameter(event, \"num_guests\")\n",
    "\n",
    "        if date and hour and num_guests:\n",
    "            response = str(create_booking(date, name, hour, num_guests))\n",
    "            responseBody = {'TEXT': {'body': json.dumps(response)}}\n",
    "        else:\n",
    "            responseBody = {'TEXT': {'body': 'Missing required parameters'}}\n",
    "\n",
    "    elif function == 'delete_booking':\n",
    "        booking_id = get_named_parameter(event, \"booking_id\")\n",
    "        if booking_id:\n",
    "            response = str(delete_booking(booking_id))\n",
    "            responseBody = {'TEXT': {'body': json.dumps(response)}}\n",
    "        else:\n",
    "            responseBody = {'TEXT': {'body': 'Missing booking_id parameter'}}\n",
    "\n",
    "    else:\n",
    "        responseBody = {'TEXT': {'body': 'Invalid function'}}\n",
    "\n",
    "    action_response = {\n",
    "        'actionGroup': actionGroup,\n",
    "        'function': function,\n",
    "        'functionResponse': {\n",
    "            'responseBody': responseBody\n",
    "        }\n",
    "    }\n",
    "\n",
    "    function_response = {'response': action_response, 'messageVersion': event['messageVersion']}\n",
    "    print(\"Response: {}\".format(function_response))\n",
    "\n",
    "    return function_response"
   ]
  },
  {
   "cell_type": "markdown",
   "id": "4e111cd0",
   "metadata": {
    "pycharm": {
     "name": "#%% md\n"
    }
   },
   "source": [
    "#### Step 2 : Define available actions\n",
    "Now it's time to define the actions that can be taken by the agent"
   ]
  },
  {
   "cell_type": "code",
   "execution_count": null,
   "id": "61fd71c6",
   "metadata": {
    "pycharm": {
     "name": "#%%\n"
    }
   },
   "outputs": [],
   "source": [
    "agent_functions = [\n",
    "    {\n",
    "        'name': 'get_booking_details',\n",
    "        'description': 'Retrieve details of a restaurant booking',\n",
    "        'parameters': {\n",
    "            \"booking_id\": {\n",
    "                \"description\": \"The ID of the booking to retrieve\",\n",
    "                \"required\": True,\n",
    "                \"type\": \"string\"\n",
    "            }\n",
    "        }\n",
    "    },\n",
    "    {\n",
    "        'name': 'create_booking',\n",
    "        'description': 'Create a new restaurant booking',\n",
    "        'parameters': {\n",
    "            \"date\": {\n",
    "                \"description\": \"The date of the booking in the format YYYY-MM-DD\",\n",
    "                \"required\": True,\n",
    "                \"type\": \"string\"\n",
    "            },\n",
    "            \"name\": {\n",
    "                \"description\": \"Name to idenfity your reservation\",\n",
    "                \"required\": True,\n",
    "                \"type\": \"string\"\n",
    "            },\n",
    "            \"hour\": {\n",
    "                \"description\": \"The hour of the booking in the format HH:MM\",\n",
    "                \"required\": True,\n",
    "                \"type\": \"string\"\n",
    "            },\n",
    "            \"num_guests\": {\n",
    "                \"description\": \"The number of guests for the booking\",\n",
    "                \"required\": True,\n",
    "                \"type\": \"integer\"\n",
    "            }\n",
    "        }\n",
    "    },\n",
    "    {\n",
    "        'name': 'delete_booking',\n",
    "        'description': 'Delete an existing restaurant booking',\n",
    "        'parameters': {\n",
    "            \"booking_id\": {\n",
    "                \"description\": \"The ID of the booking to delete\",\n",
    "                \"required\": True,\n",
    "                \"type\": \"string\"\n",
    "            }\n",
    "        }\n",
    "    },\n",
    "]"
   ]
  },
  {
   "cell_type": "markdown",
   "id": "d72cde32-57f6-4c13-bc8d-599ea67b6919",
   "metadata": {
    "pycharm": {
     "name": "#%% md\n"
    }
   },
   "source": [
    "#### Step 3: Associating action group to agent\n",
    "Finally, we can associate a new action group with our previously created agent"
   ]
  },
  {
   "cell_type": "code",
   "execution_count": null,
   "id": "f38fb3fd",
   "metadata": {
    "pycharm": {
     "name": "#%%\n"
    }
   },
   "outputs": [],
   "source": [
    "resp = agents.add_action_group_with_lambda(\n",
    "    agent_name=agent_name,\n",
    "    lambda_function_name=lambda_name,\n",
    "    source_code_file=\"lambda_function.py\",\n",
    "    agent_functions=agent_functions,\n",
    "    agent_action_group_name=\"restaurant_helper_actions\",\n",
    "    agent_action_group_description=\"Actions for getting table booking information, create a new booking or delete an existing booking\",\n",
    "    dynamo_args=dynamoDB_args\n",
    ")"
   ]
  },
  {
   "cell_type": "code",
   "execution_count": null,
   "id": "62566a55-b4c5-45e5-9923-5c6a23ee5d66",
   "metadata": {},
   "outputs": [],
   "source": [
    "restaurant_agent"
   ]
  },
  {
   "cell_type": "markdown",
   "id": "24226dfa-a3ce-4ba3-bcff-da63e99af5c0",
   "metadata": {
    "pycharm": {
     "name": "#%% md\n"
    }
   },
   "source": [
    "#### Congratulations, you have created the agent !!!"
   ]
  },
  {
   "cell_type": "markdown",
   "id": "c8c1cd1e",
   "metadata": {},
   "source": [
    "## Test the Agent\n",
    "\n",
    "Now, let's run some tests on the agent to make sure it's working. To do so we will use our test alias: `TSTALIASID` which allows you to invoke a draft version of your agent.\n",
    "\n",
    "### Testing with a simple question\n",
    "First let's ask a question related to food options in Seattle "
   ]
  },
  {
   "cell_type": "code",
   "execution_count": null,
   "id": "18d8404d",
   "metadata": {
    "pycharm": {
     "name": "#%%\n"
    }
   },
   "outputs": [],
   "source": [
    "bedrock_agent_runtime_client = boto3.client('bedrock-agent-runtime')\n",
    "def invokeAgent(query, session_id, session_state=dict()):\n",
    "    # invoke the agent API\n",
    "    agentResponse = bedrock_agent_runtime_client.invoke_agent(\n",
    "        inputText=query,\n",
    "        agentId=restaurant_agent[0],\n",
    "        agentAliasId=restaurant_agent[1],\n",
    "        sessionId=session_id,\n",
    "        enableTrace=True,\n",
    "        sessionState=session_state,\n",
    "    )\n",
    "\n",
    "    event_stream = agentResponse[\"completion\"]\n",
    "    try:\n",
    "        traces = []\n",
    "        for event in event_stream:\n",
    "            if \"chunk\" in event:\n",
    "                data = event[\"chunk\"][\"bytes\"]\n",
    "                agent_answer = data.decode(\"utf8\")\n",
    "                return agent_answer, traces\n",
    "                # the chunk object indicates that the request finished successfully\n",
    "            elif \"trace\" in event:\n",
    "                traces.append(event[\"trace\"])\n",
    "                # captures the trace information\n",
    "            else:\n",
    "                raise Exception(\"unexpected event.\", event)\n",
    "        return agent_answer, traces\n",
    "    except Exception as e:\n",
    "        raise Exception(\"unexpected event.\", e)"
   ]
  },
  {
   "cell_type": "code",
   "execution_count": null,
   "id": "0054aa43-2ada-463a-9086-a674648e75a1",
   "metadata": {},
   "outputs": [],
   "source": [
    "session_id = str(uuid.uuid1())\n",
    "query = \"Where can I eat in Seattle?\"\n",
    "agent_answer, traces = invokeAgent(query, session_id)\n",
    "agent_answer"
   ]
  },
  {
   "cell_type": "markdown",
   "id": "ca4fee12",
   "metadata": {},
   "source": [
    "### Evaluate Performance with Ragas\n",
    "\n",
    "Now we know that the agent works, how do we know that it works well ? \n",
    "\n",
    "In this section, lets assess the performance using [Ragas Agent Evaluation Metrics](https://docs.ragas.io/en/stable/howtos/integrations/amazon_bedrock/?h=agentgoal#evaluating-agent-with-ragas).\n",
    "\n",
    "#### Key Steps\n",
    "1. Set up Ragas evaluation metrics\n",
    "2. Convert agent interaction traces to Ragas-compatible format\n",
    "3. Evaluate the agent using various metrics\n",
    "4. Analyze the results to understand agent performance\n",
    "\n",
    "#### 1. Ragas Setup\n",
    "We configure Ragas with:\n",
    "- A judge model *(we chose Amazon Bedrock's Nova Pro model)*\n",
    "- Evaluation metrics for different aspects of agent performance\n",
    "- Custom evaluation criteria for specific use cases\n"
   ]
  },
  {
   "cell_type": "code",
   "execution_count": null,
   "id": "b8dc3558-d8d8-401e-9577-f0fe83c90d1e",
   "metadata": {},
   "outputs": [],
   "source": [
    "from langchain_aws import ChatBedrock\n",
    "from ragas.llms import LangchainLLMWrapper\n",
    "\n",
    "# Configure the judge model\n",
    "model_id = \"us.amazon.nova-pro-v1:0\"   # Choose your desired model\n",
    "region_name = \"us-east-1\"              # Choose your desired AWS region\n",
    "\n",
    "# Initialize the Bedrock LLM and wrap it for Ragas\n",
    "bedrock_llm = ChatBedrock(model_id=model_id, region_name=region_name)\n",
    "evaluator_llm = LangchainLLMWrapper(bedrock_llm)"
   ]
  },
  {
   "cell_type": "markdown",
   "id": "1226d019",
   "metadata": {},
   "source": [
    "We start with asking ourselves a major question: \n",
    "\n",
    "<div style=\"text-align:left\">\n",
    "    <img src=\"images/metrics_1.png\" width=\"65%\" />\n",
    "</div>\n",
    "\n",
    "\n",
    "For the first question, we choose two metrics:\n",
    "1. **AgentGoalAccuracyWithoutReference**: LLM as a judge makes the decision\n",
    "2. **AgentGoalAccuracyWithReference**: Needs a baseline reference / Ground truth."
   ]
  },
  {
   "cell_type": "code",
   "execution_count": null,
   "id": "c8189202-1621-4eee-996e-03a833a198d5",
   "metadata": {},
   "outputs": [],
   "source": [
    "from ragas.metrics import (\n",
    "    AgentGoalAccuracyWithoutReference,\n",
    "    AgentGoalAccuracyWithReference,\n",
    ")\n",
    "\n",
    "# Initialize the goal accuracy metrics\n",
    "goal_accuracy_with_reference = AgentGoalAccuracyWithReference(llm=evaluator_llm)\n",
    "goal_accuracy_without_reference = AgentGoalAccuracyWithoutReference(llm=evaluator_llm)"
   ]
  },
  {
   "cell_type": "code",
   "execution_count": null,
   "id": "b586ec33-88d6-4c71-89ad-5548f9f05ada",
   "metadata": {},
   "outputs": [],
   "source": [
    "session_id = str(uuid.uuid1())\n",
    "query = \"Make a reservation for Anna, 2 at the The Coastal Bloom. For August 12th 2025 at 9pm\"\n",
    "agent_answer, traces = invokeAgent(query, session_id)\n",
    "agent_answer"
   ]
  },
  {
   "cell_type": "code",
   "execution_count": null,
   "id": "e1502a36-37b3-431f-8f19-ba39e33ec94b",
   "metadata": {},
   "outputs": [],
   "source": [
    "from ragas.integrations.amazon_bedrock import convert_to_ragas_messages\n",
    "from ragas.dataset_schema import SingleTurnSample, MultiTurnSample, EvaluationDataset\n",
    "from ragas import evaluate\n",
    "\n",
    "# Convert traces to Ragas format\n",
    "ragas_messages = convert_to_ragas_messages(traces)\n",
    "\n",
    "# Test with reference comparison\n",
    "sample_with_ref = MultiTurnSample(\n",
    "    user_input=ragas_messages,\n",
    "    reference=\"Reservation is done and the booking id is shared\",\n",
    ")\n",
    "\n",
    "result_with_ref = evaluate(\n",
    "    dataset=EvaluationDataset(samples=[sample_with_ref]),\n",
    "    metrics=[goal_accuracy_with_reference],\n",
    ")\n",
    "\n",
    "# Test without reference\n",
    "sample_without_ref = MultiTurnSample(user_input=ragas_messages)\n",
    "\n",
    "result_without_ref = evaluate(\n",
    "    dataset=EvaluationDataset(samples=[sample_without_ref]),\n",
    "    metrics=[goal_accuracy_without_reference],\n",
    ")"
   ]
  },
  {
   "cell_type": "code",
   "execution_count": null,
   "id": "bfd01b80-f485-453d-bd0f-d3d9bffa3325",
   "metadata": {},
   "outputs": [],
   "source": [
    "result_with_ref"
   ]
  },
  {
   "cell_type": "code",
   "execution_count": null,
   "id": "cd14e555-9ebb-4f04-9033-c78b01dd79d0",
   "metadata": {},
   "outputs": [],
   "source": [
    "result_without_ref"
   ]
  },
  {
   "cell_type": "markdown",
   "id": "a1c2e86e",
   "metadata": {},
   "source": [
    "Next, we want to evaluate the performance of the **Knowledge Retrieval**. We use the following RAG-specific metrics:\n",
    "\n",
    "\n",
    "<div style=\"text-align:left\">\n",
    "    <img src=\"images/metrics_2.png\" width=\"65%\" />\n",
    "</div>\n",
    "\n",
    "\n",
    "1. **ContextRelevance**: Measures how well the retrieved contexts address the user’s query by evaluating their pertinence through dual LLM judgments.\n",
    "2. **Faithfulness**: Assesses the factual consistency of the response by determining whether all its claims can be supported by the provided retrieved contexts.\n",
    "3. **ResponseGroundedness**: Determines the extent to which each claim in the response is directly supported or “grounded” in the provided contexts."
   ]
  },
  {
   "cell_type": "code",
   "execution_count": null,
   "id": "65f50025-86fb-42ec-86c2-b36ecd271b01",
   "metadata": {},
   "outputs": [],
   "source": [
    "from ragas.metrics import ContextRelevance, Faithfulness, ResponseGroundedness\n",
    "\n",
    "# Initialize RAG evaluation metrics\n",
    "metrics = [\n",
    "    ContextRelevance(llm=evaluator_llm),\n",
    "    Faithfulness(llm=evaluator_llm),\n",
    "    ResponseGroundedness(llm=evaluator_llm),\n",
    "]"
   ]
  },
  {
   "cell_type": "code",
   "execution_count": null,
   "id": "42c0bae1-238c-42bd-8307-e0e0779b55ec",
   "metadata": {},
   "outputs": [],
   "source": [
    "# first query\n",
    "query = \"Does Rice & Spice in San Francisco serve Chicken Wings?\"\n",
    "agent_answer_wings, traces_wings = invokeAgent(query, str(uuid.uuid1()))\n",
    "\n",
    "# second query\n",
    "query = \"Does Rice & Spice in San Francisco have Mango Sticky Rice in the menu?\"\n",
    "agent_answer_dessert, traces_dessert = invokeAgent(query, str(uuid.uuid1()))"
   ]
  },
  {
   "cell_type": "code",
   "execution_count": null,
   "id": "5871e12d-4bdc-489b-b5f7-cda503677136",
   "metadata": {},
   "outputs": [],
   "source": [
    "print(agent_answer_wings)\n",
    "print(\"----\")\n",
    "print(agent_answer_dessert)"
   ]
  },
  {
   "cell_type": "code",
   "execution_count": null,
   "id": "30ffcbeb-1882-4bb1-95ca-e786a8357c29",
   "metadata": {},
   "outputs": [],
   "source": [
    "from ragas.integrations.amazon_bedrock import extract_kb_trace\n",
    "\n",
    "# Extract knowledge base traces from previous agent interactions\n",
    "kb_trace_wings = extract_kb_trace(traces_wings)\n",
    "kb_trace_dessert = extract_kb_trace(traces_dessert)\n",
    "\n",
    "# Create evaluation samples\n",
    "wings_sample = SingleTurnSample(\n",
    "    user_input=kb_trace_wings[0].get(\"user_input\"),\n",
    "    retrieved_contexts=kb_trace_wings[0].get(\"retrieved_contexts\"),\n",
    "    response=kb_trace_wings[0].get(\"response\"),\n",
    "    reference=\"\"\"No, Rice & Spice in San Francisco does not serve Chicken Wings.\n",
    "    Their menu focuses on Pan-Asian Fusion cuisine\"\"\"\n",
    ")\n",
    "\n",
    "dessert_sample = SingleTurnSample(\n",
    "    user_input=kb_trace_dessert[0].get(\"user_input\"),\n",
    "    retrieved_contexts=kb_trace_dessert[0].get(\"retrieved_contexts\"),\n",
    "    response=kb_trace_dessert[0].get(\"response\"),\n",
    "    reference=\"Yes, Rice & Spice does have Mango Sticky Rice on their menu.\"\n",
    ")\n",
    "\n",
    "# Run evaluation\n",
    "dataset = EvaluationDataset(samples=[wings_sample, dessert_sample])\n",
    "kb_results = evaluate(dataset=dataset, metrics=metrics)"
   ]
  },
  {
   "cell_type": "code",
   "execution_count": null,
   "id": "ead7a616-a88c-4827-806d-4f4227e03fda",
   "metadata": {},
   "outputs": [],
   "source": [
    "kb_results"
   ]
  },
  {
   "cell_type": "markdown",
   "id": "7cddc9c3",
   "metadata": {},
   "source": [
    "\n",
    "#### Custom Metrics\n",
    "\n",
    "Based on our usecase, we want to create some custom metrics:\n",
    "\n",
    "<div style=\"text-align:left\">\n",
    "    <img src=\"images/metrics_all.png\" width=\"65%\" />\n",
    "</div>\n",
    "\n",
    "\n",
    "\n",
    "We create custom metrics for specific aspects:\n",
    "- `Request Completeness`: Evaluates if the agent fulfills all parts of the request\n",
    "- `Brand Voice Metric`: Assesses if communication aligns with desired tone\n",
    "- `Recommendations`: Uses a rubric to evaluate how well the agent handles food item requests\n",
    "\n"
   ]
  },
  {
   "cell_type": "code",
   "execution_count": null,
   "id": "14a3e16b-1da2-44f5-8a47-5bd5613ee20d",
   "metadata": {},
   "outputs": [],
   "source": [
    "from ragas.metrics import AspectCritic\n",
    "\n",
    "# Metric to evaluate if the AI fulfills all human requests completely\n",
    "request_completeness = AspectCritic(\n",
    "    name=\"Request Completeness\",\n",
    "    llm=evaluator_llm,\n",
    "    definition=(\n",
    "        \"Return 1 if the agent completely fulfills all the user requests with no omissions. \"\n",
    "        \"otherwise, return 0.\"\n",
    "    ),\n",
    ")\n",
    "\n",
    "# Metric to assess if the AI's communication aligns with the desired brand voice\n",
    "brand_tone = AspectCritic(\n",
    "    name=\"Brand Voice Metric\",\n",
    "    llm=evaluator_llm,\n",
    "    definition=(\n",
    "        \"Return 1 if the AI's communication is friendly, approachable, helpful, clear, and concise; \"\n",
    "        \"otherwise, return 0.\"\n",
    "    ),\n",
    ")"
   ]
  },
  {
   "cell_type": "code",
   "execution_count": null,
   "id": "ff935efc-aaea-4de2-ab16-fb64bf72d0b4",
   "metadata": {},
   "outputs": [],
   "source": [
    "queries = [\n",
    "    \"\"\"If you serve mushroom risotto at The Coastal Bloom? If so then book a \n",
    "    table for Anna, 2 people at 7pm on the 5th of August 2025.\"\"\",\n",
    "    \"Can you check my previous booking? Was it for 2 or 4 people?\"\n",
    "]\n",
    "\n",
    "samples = []\n",
    "session_id = str(uuid.uuid1())\n",
    "for query in queries:\n",
    "    agent_answer, traces = invokeAgent(query, session_id)\n",
    "    print(agent_answer)\n",
    "    ragas_messages_trace = convert_to_ragas_messages(traces)\n",
    "    samples.append(MultiTurnSample(user_input=ragas_messages_trace))\n",
    "\n",
    "result = evaluate(\n",
    "    dataset=EvaluationDataset(samples=samples),\n",
    "    metrics=[request_completeness, brand_tone],\n",
    ")"
   ]
  },
  {
   "cell_type": "code",
   "execution_count": null,
   "id": "532d338e-0052-4666-805f-aa31e6ef7950",
   "metadata": {},
   "outputs": [],
   "source": [
    "result"
   ]
  },
  {
   "cell_type": "code",
   "execution_count": null,
   "id": "e4f4ec8d-5757-48d5-b8e1-1e7620d01994",
   "metadata": {},
   "outputs": [],
   "source": [
    "from ragas.metrics import RubricsScore\n",
    "\n",
    "rubrics = {\n",
    "    \"score0_description\": (\n",
    "        \"The food item is not present in the menu and no recommendation was made.\"\n",
    "    ),\n",
    "    \"score1_description\": (\n",
    "        \"The item requested by the customer is not present in the menu and a recommendation was provided.\"\n",
    "    ),\n",
    "    \"score2_description\": (\n",
    "        \"No recommendation needed. The food item asked is is present in the menu.\"\n",
    "    ),\n",
    "    \"score3_description\": (\n",
    "        \"No recommendation needed. The request was not about a food item.\"\n",
    "    ),\n",
    "}\n",
    "\n",
    "recommendations = RubricsScore(rubrics=rubrics, llm=evaluator_llm, name=\"Recommendations\")"
   ]
  },
  {
   "cell_type": "code",
   "execution_count": null,
   "id": "8c591a1b-9852-462b-bef9-5aa03acf7377",
   "metadata": {},
   "outputs": [],
   "source": [
    "queries = [\n",
    "    \"Do you serve Chicken Wings at The Coastal Bloom?\",\n",
    "    \"Does Rice & Spice in San Francisco have Mango Sticky Rice in the menu?\",\n",
    "    \"Does Ember & Vine have anything with chicken in the menu?\",\n",
    "    \"Do you have Indian food at Bistro Parisienne?\",\n",
    "    \"Where is the Ocean Harvest located?\"\n",
    "]\n",
    "samples = []\n",
    "answers = []\n",
    "\n",
    "for query in queries:\n",
    "    session_id:str = str(uuid.uuid1())\n",
    "    agent_answer, traces = invokeAgent(query, session_id)\n",
    "    ragas_messages_trace = convert_to_ragas_messages(traces)\n",
    "    answers.append(agent_answer)\n",
    "    samples.append(MultiTurnSample(user_input=ragas_messages_trace))\n",
    "\n",
    "result = evaluate(\n",
    "    dataset=EvaluationDataset(samples=samples),\n",
    "    metrics=[recommendations],\n",
    ")\n",
    "\n",
    "results = result.to_pandas()\n",
    "results['queries'] = queries\n",
    "results['output'] = answers"
   ]
  },
  {
   "cell_type": "code",
   "execution_count": null,
   "id": "b5bc374b-7693-43c0-8352-e77b639d6bc0",
   "metadata": {},
   "outputs": [],
   "source": [
    "results[[\"queries\", \"output\", \"Recommendations\"]]"
   ]
  },
  {
   "cell_type": "code",
   "execution_count": null,
   "id": "e85bcae8-4287-436d-88e2-b38f7b63cdce",
   "metadata": {},
   "outputs": [],
   "source": [
    "answers"
   ]
  },
  {
   "cell_type": "markdown",
   "id": "89f85638",
   "metadata": {},
   "source": [
    "### Cleanup (Optional but recommended)"
   ]
  },
  {
   "cell_type": "code",
   "execution_count": null,
   "id": "bb8aacc6",
   "metadata": {},
   "outputs": [],
   "source": [
    "# Clean up resources\n",
    "# Knowledge Base\n",
    "kb.delete_kb(kb_name=knowledge_base_name, delete_s3_bucket=True, delete_iam_roles_and_policies=True, delete_aoss=True)\n",
    "\n",
    "# Agent and Lambda action group\n",
    "agents.delete_lambda(lambda_function_name=lambda_name, delete_role_flag=True)\n",
    "agents.delete_agent(agent_name=agent_name, delete_role_flag=True, verbose=True)"
   ]
  }
 ],
 "metadata": {
  "kernelspec": {
   "display_name": "Python 3",
   "language": "python",
   "name": "python3"
  },
  "language_info": {
   "codemirror_mode": {
    "name": "ipython",
    "version": 3
   },
   "file_extension": ".py",
   "mimetype": "text/x-python",
   "name": "python",
   "nbconvert_exporter": "python",
   "pygments_lexer": "ipython3",
   "version": "3.11.7"
  }
 },
 "nbformat": 4,
 "nbformat_minor": 5
}
