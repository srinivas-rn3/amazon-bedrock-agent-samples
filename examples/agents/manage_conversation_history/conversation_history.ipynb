{
 "cells": [
  {
   "cell_type": "markdown",
   "id": "089569ae-9348-4442-8e2a-941a8e5c00ac",
   "metadata": {},
   "source": [
    "# Providing Conversation History to Amazon Bedrock Agents\n",
    "\n",
    "In this notebook, we will create an Amazon Bedrock Agent and understand how to initialize the Agent with Conversation History. This feature enables you to continue a conversation with an Agent even if the session has expired. Additionally, we will explore the benefits of overriding Conversation History at each turn of Agent invocation, which can lead to lower latency and reduced cost. "
   ]
  },
  {
   "cell_type": "markdown",
   "id": "2f2f52ae-39a8-4fb2-813e-b09e368ed056",
   "metadata": {},
   "source": [
    "### 1- Initializing Amazon Bedrock Agent with Conversation History\n",
    "### 2- Overriding Conversation History for Lower Input Token Consumption"
   ]
  },
  {
   "cell_type": "markdown",
   "id": "75812d27-12c4-4ea9-a2cb-93ddfabdd1ed",
   "metadata": {},
   "source": [
    "In this example we will create a restaurant assistant agent that connects with a Knowledge Base for Amazon Bedrock containing the restaurant's different menus. This agent also connects to an action group that provides functionalities for handling the table booking in this restaurant."
   ]
  },
  {
   "cell_type": "markdown",
   "id": "c8f63fd7-fd0c-4cde-8752-e2bb50ac5a47",
   "metadata": {},
   "source": [
    "![](./architecture.png)"
   ]
  },
  {
   "cell_type": "markdown",
   "id": "073fb566-1bb1-46ec-bdb3-7012a2e74714",
   "metadata": {},
   "source": [
    "## Prerequisites\n",
    "Before starting, let's update the boto3 packages to ensure we have the latest version"
   ]
  },
  {
   "cell_type": "code",
   "execution_count": 2,
   "id": "8264539e-4c73-45ae-b754-af211be1a919",
   "metadata": {},
   "outputs": [],
   "source": [
    "%load_ext autoreload"
   ]
  },
  {
   "cell_type": "code",
   "execution_count": 3,
   "id": "9efcadb9-0e5a-4b9e-b98b-b0df553db763",
   "metadata": {},
   "outputs": [],
   "source": [
    "%autoreload 2"
   ]
  },
  {
   "cell_type": "code",
   "execution_count": null,
   "id": "c603ce06-61d8-4236-92e8-883e0d49cfea",
   "metadata": {
    "scrolled": true,
    "tags": []
   },
   "outputs": [],
   "source": [
    "!pip install -r requirements.txt"
   ]
  },
  {
   "cell_type": "code",
   "execution_count": null,
   "id": "237510c7-35b7-4e02-b986-5702005b8bfa",
   "metadata": {},
   "outputs": [],
   "source": [
    "!pip install -U -r requirements.txt"
   ]
  },
  {
   "cell_type": "markdown",
   "id": "52dad4b8-c2e0-44cf-99ee-5c2a7e1a600f",
   "metadata": {},
   "source": [
    "Let's now create the boto3 clients for the required AWS services"
   ]
  },
  {
   "cell_type": "code",
   "execution_count": null,
   "id": "c0a1bde9-5512-4d0d-af58-d5f2a05ad06a",
   "metadata": {},
   "outputs": [],
   "source": [
    "import boto3\n",
    "\n",
    "\n",
    "print(boto3.__version__)\n",
    "bedrock_agent_runtime_client = boto3.client(\"bedrock-agent-runtime\")"
   ]
  },
  {
   "cell_type": "code",
   "execution_count": 7,
   "id": "f9478f3f-090b-4643-a332-db6fa62c75b1",
   "metadata": {},
   "outputs": [],
   "source": [
    "import time\n",
    "import uuid\n",
    "import json\n",
    "import logging\n",
    "import pprint\n",
    "from termcolor import colored\n",
    "\n",
    "from create_agent import create_restaurant_agent, cleanup, create_kb\n",
    "from utility import create_latency_boxplot, create_token_boxplot, last_message_analytics"
   ]
  },
  {
   "cell_type": "code",
   "execution_count": 8,
   "id": "c36bc25d-ef00-4bbc-861e-332247d2a304",
   "metadata": {},
   "outputs": [],
   "source": [
    "logging.basicConfig(format='[%(asctime)s] p%(process)s {%(filename)s:%(lineno)d} %(levelname)s - %(message)s', level=logging.INFO)\n",
    "logger = logging.getLogger(__name__)"
   ]
  },
  {
   "cell_type": "markdown",
   "id": "a758af39-2bb6-448f-96dd-daac5569e4fd",
   "metadata": {},
   "source": [
    "## Create Restaurant Assistant Agent"
   ]
  },
  {
   "cell_type": "code",
   "execution_count": null,
   "id": "7bb8c8f5-5155-4ec9-ba53-4ecb3d4d8ac0",
   "metadata": {
    "scrolled": true
   },
   "outputs": [],
   "source": [
    "kb_id, knowledge_base = create_kb()"
   ]
  },
  {
   "cell_type": "code",
   "execution_count": null,
   "id": "e6fc551f-4e12-472d-a3c0-3ae36d60cca8",
   "metadata": {},
   "outputs": [],
   "source": [
    "agent_id, alias_id, lambda_function, agent_action_group_response = create_restaurant_agent(kb_id)"
   ]
  },
  {
   "cell_type": "markdown",
   "id": "cdc0e133-bada-4602-a6fd-c2aee8dfefd2",
   "metadata": {},
   "source": [
    "## Invoke Agent - Utility"
   ]
  },
  {
   "cell_type": "markdown",
   "id": "77539560-5e52-40b6-87ad-a28fdbe21aeb",
   "metadata": {},
   "source": [
    "#### The conversationHistory can be passed into the sessionState parameter of the invokeAgent API in the following format:\n",
    "\n",
    "```json\n",
    "sessionState={\n",
    "    'conversationHistory': {\n",
    "        'messages': [\n",
    "            {\n",
    "                'content': [\n",
    "                    {\n",
    "                        'text': 'string'\n",
    "                    },\n",
    "                ],\n",
    "                'role': 'user'|'assistant'\n",
    "            },\n",
    "            // Additional message objects...\n",
    "        ]\n",
    "    },\n",
    "}\n",
    "```\n",
    "\n",
    "#### Each message object in the messages array represents a single turn in the conversation, where the content field contains the message text, and the role field specifies whether the message is from the 'user' or the 'assistant'.\n",
    "\n",
    "#### When passing the conversationHistory in the sessionState, it appends the provided history to any existing messages in the current session."
   ]
  },
  {
   "cell_type": "code",
   "execution_count": 33,
   "id": "10a2c9bc-74fd-4514-9c69-06de6deb306a",
   "metadata": {},
   "outputs": [],
   "source": [
    "def invokeAgent(query, session_id, enable_trace=False, trace_level=\"core\", session_state=dict(), end_session=False):\n",
    "    agent_answer = str()\n",
    "    input_tokens = 0\n",
    "    output_tokens = 0\n",
    "    start_time = time.time()\n",
    "\n",
    "    if trace_level not in [\"core\", \"all\"]:\n",
    "        trace_level = \"core\"\n",
    "\n",
    "        print(colored(f\"Defaulting to trace level: {trace_level}\", \"red\"))\n",
    "\n",
    "    agentResponse = bedrock_agent_runtime_client.invoke_agent(\n",
    "        inputText=query,\n",
    "        agentId=agent_id,\n",
    "        agentAliasId=alias_id,\n",
    "        sessionId=session_id,\n",
    "        enableTrace=enable_trace,\n",
    "        endSession=end_session,\n",
    "        sessionState=session_state\n",
    "    )\n",
    "    \n",
    "    if enable_trace and trace_level == \"all\":\n",
    "        logger.info(pprint.pprint(agentResponse))\n",
    "    \n",
    "    event_stream = agentResponse['completion']\n",
    "    try:\n",
    "        for event in event_stream:        \n",
    "            if 'chunk' in event:\n",
    "                data = event['chunk']['bytes']\n",
    "                if enable_trace and trace_level == \"all\":\n",
    "                    logger.info(f\"Final answer ->\\n{data.decode('utf8')}\")\n",
    "                agent_answer = data.decode('utf8')\n",
    "                end_event_received = True\n",
    "                \n",
    "                # End event indicates that the request finished successfully\n",
    "            if 'trace' in event:\n",
    "                if enable_trace:\n",
    "                    if trace_level == \"all\":\n",
    "                        logger.info(json.dumps(event['trace'], indent=2))\n",
    "                    \n",
    "                    trace = event[\"trace\"][\"trace\"]\n",
    "\n",
    "                    if \"orchestrationTrace\" in trace:\n",
    "                        orchestrationTrace = trace[\"orchestrationTrace\"]\n",
    "\n",
    "                        if \"modelInvocationOutput\" in orchestrationTrace:\n",
    "                            input_tokens += orchestrationTrace[\"modelInvocationOutput\"][\"metadata\"][\"usage\"][\"inputTokens\"]\n",
    "                            output_tokens += orchestrationTrace[\"modelInvocationOutput\"][\"metadata\"][\"usage\"][\"outputTokens\"]\n",
    "\n",
    "                    if \"postProcessingTrace\" in trace:\n",
    "                        postProcessingTrace = trace[\"postProcessingTrace\"]\n",
    "                        \n",
    "                        if \"modelInvocationOutput\" in postProcessingTrace:\n",
    "                            input_tokens += postProcessingTrace[\"modelInvocationOutput\"][\"metadata\"][\"usage\"][\"inputTokens\"]\n",
    "                            output_tokens += postProcessingTrace[\"modelInvocationOutput\"][\"metadata\"][\"usage\"][\"outputTokens\"]\n",
    "\n",
    "                    if \"preProcessingTrace\" in trace:\n",
    "                        preProcessingTrace = trace[\"preProcessingTrace\"]\n",
    "                        \n",
    "                        if \"modelInvocationOutput\" in preProcessingTrace:\n",
    "                            input_tokens += preProcessingTrace[\"modelInvocationOutput\"][\"metadata\"][\"usage\"][\"inputTokens\"]\n",
    "                            output_tokens += preProcessingTrace[\"modelInvocationOutput\"][\"metadata\"][\"usage\"][\"outputTokens\"]\n",
    "\n",
    "                    if \"routingClassifierTrace\" in trace:\n",
    "                        routingClassifierTrace = trace[\"routingClassifierTrace\"]\n",
    "                        \n",
    "                        if \"modelInvocationOutput\" in routingClassifierTrace:\n",
    "                            input_tokens += routingClassifierTrace[\"modelInvocationOutput\"][\"metadata\"][\"usage\"][\"inputTokens\"]\n",
    "                            output_tokens += routingClassifierTrace[\"modelInvocationOutput\"][\"metadata\"][\"usage\"][\"outputTokens\"]\n",
    "                        \n",
    "                        \n",
    "                    \n",
    "    except Exception as e:\n",
    "        raise Exception(\"unexpected event.\", e)\n",
    "\n",
    "    end_time = time.time()\n",
    "\n",
    "    execution_time = end_time - start_time\n",
    "\n",
    "    if not end_session:\n",
    "        print(colored(f\"Agent took {execution_time} seconds to execute\", \"yellow\"))\n",
    "        print(colored(f\"Agent took Input Tokens: {input_tokens}  and Output Tokens: {output_tokens}  to execute\", \"yellow\"))\n",
    "    \n",
    "    return agent_answer, execution_time, input_tokens, output_tokens"
   ]
  },
  {
   "cell_type": "markdown",
   "id": "fad6d813-8e66-449d-aaef-d2b9c0f599bd",
   "metadata": {},
   "source": [
    "## Initializing Amazon Bedrock Agent with Conversation History"
   ]
  },
  {
   "cell_type": "markdown",
   "id": "9b41e1a1-e666-4a43-80ce-0e305d82b9d4",
   "metadata": {},
   "source": [
    "#### In this section we will initialize the agent with the following conversation history. \n",
    "\n",
    "```\n",
    "User: What are the starters in the childrens menu?\n",
    "```\n",
    "```\n",
    "Assistant: According to the knowledge base, the children's menu at The Regrettable Experience does not have a separate \"starters\" section. However, some of the entree options could be considered starters or appetizers, such as:\n",
    "            - Chicken nuggets (allergens: gluten, possible soy)\n",
    "            - Macaroni and cheese (allergens: dairy, gluten)  \n",
    "            - Mini cheese quesadillas (allergens: dairy, gluten)\n",
    "            - Peanut butter and banana sandwich (allergens: nuts, gluten)\n",
    "            - Veggie pita pockets (allergens: gluten, possible soy)\n",
    "            - Mini cheeseburgers (allergens: dairy, gluten)\n",
    "            - Fish sticks (allergens: gluten, possible soy)\n",
    "            - Grilled cheese sandwich (allergens: dairy, gluten)\n",
    "            - Spaghetti with marinara sauce (allergens: gluten)\n",
    "```\n",
    "\n",
    "#### To invoke the agent with conversation history, you need to pass it in the following format in the 'sessionState' parameter of the 'InvokeAgent' API request."
   ]
  },
  {
   "cell_type": "code",
   "execution_count": 34,
   "id": "cc15abee-e59e-4884-a73e-e2f1cde37610",
   "metadata": {},
   "outputs": [],
   "source": [
    "# Start a new sesssion\n",
    "session_id:str = str(uuid.uuid1())\n",
    "\n",
    "# conversation history\n",
    "conversation_history = [\n",
    "    {\"content\": [{\"text\": \"\"\"\n",
    "        According to the knowledge base, the children's menu at The Regrettable Experience does not have a separate \"starters\" section. However, some of the entree options could be considered starters or appetizers, such as:\n",
    "            \n",
    "            - Chicken nuggets (allergens: gluten, possible soy)\n",
    "            - Macaroni and cheese (allergens: dairy, gluten)  \n",
    "            - Mini cheese quesadillas (allergens: dairy, gluten)\n",
    "            - Peanut butter and banana sandwich (allergens: nuts, gluten)\n",
    "            - Veggie pita pockets (allergens: gluten, possible soy)\n",
    "            - Mini cheeseburgers (allergens: dairy, gluten)\n",
    "            - Fish sticks (allergens: gluten, possible soy)\n",
    "            - Grilled cheese sandwich (allergens: dairy, gluten)\n",
    "            - Spaghetti with marinara sauce (allergens: gluten)\n",
    "        \"\"\"}], \n",
    "     \"role\": \"assistant\"},\n",
    "    {\"content\": [{\"text\": \"What are the starters in the childrens menu?\"}], \"role\": \"user\"},\n",
    "]"
   ]
  },
  {
   "cell_type": "code",
   "execution_count": null,
   "id": "c600377d-0c83-4ade-9125-95e7e65a5e26",
   "metadata": {},
   "outputs": [],
   "source": [
    "query = \"Hi, I am Anna. I want to create a booking for 2 people, at 8pm on the 5th of May 2024.\"\n",
    "\n",
    "session_state = {'conversationHistory': {'messages': conversation_history}}\n",
    "\n",
    "response, _, _, _ = invokeAgent(query=query, session_id=session_id, enable_trace=True, session_state=session_state) # pass the conversation history in session_state\n",
    "\n",
    "conversation_history.insert(0, {\"content\": [{\"text\": query}], \"role\": \"user\"})\n",
    "conversation_history.insert(0, {\"content\": [{\"text\": response}], \"role\": \"assistant\"})\n",
    "\n",
    "print(response)"
   ]
  },
  {
   "cell_type": "markdown",
   "id": "933b8b48-2a03-45a4-9f90-1b802578d6a5",
   "metadata": {},
   "source": [
    "#### Terminate the current agent session."
   ]
  },
  {
   "cell_type": "code",
   "execution_count": null,
   "id": "c4fc82c1-e00c-4089-991f-2c9b5a857502",
   "metadata": {},
   "outputs": [],
   "source": [
    "invokeAgent(query=\"End\", session_id=session_id, enable_trace=True, session_state=dict(), end_session=True)"
   ]
  },
  {
   "cell_type": "code",
   "execution_count": null,
   "id": "0d3cb43e-909b-485e-b296-ea14acc620b3",
   "metadata": {},
   "outputs": [],
   "source": [
    "print(conversation_history)"
   ]
  },
  {
   "cell_type": "markdown",
   "id": "879c2749-5f33-4418-bd50-f207d885570c",
   "metadata": {},
   "source": [
    "#### We can now initialize a new session and invoke the agent by passing the conversation history in the 'sessionState' parameter. This enables executing queries like 'Can you get information about my most recent booking?' by utilizing the context from the previous conversation."
   ]
  },
  {
   "cell_type": "code",
   "execution_count": null,
   "id": "1c76157b-cc41-4ad9-8104-ee0bc0a383a0",
   "metadata": {},
   "outputs": [],
   "source": [
    "session_id:str = str(uuid.uuid1()) # Start a new session\n",
    "\n",
    "query = \"Can you get information about the most recent booking?\"\n",
    "\n",
    "session_state = {'conversationHistory': {'messages': conversation_history}} # pass the conversation history in session_state\n",
    "\n",
    "response, _, _, _ = invokeAgent(query=query, session_id=session_id, enable_trace=False, session_state=session_state)\n",
    "\n",
    "print(response)\n",
    "\n",
    "conversation_history.insert(0, {\"content\": [{\"text\": query}], \"role\": \"user\"})\n",
    "conversation_history.insert(0, {\"content\": [{\"text\": response}], \"role\": \"assistant\"})"
   ]
  },
  {
   "cell_type": "code",
   "execution_count": null,
   "id": "7bfd5c12-8907-4003-9c7b-eb26c499358a",
   "metadata": {},
   "outputs": [],
   "source": [
    "print(conversation_history)"
   ]
  },
  {
   "cell_type": "markdown",
   "id": "ac1a0914-aa95-4ebc-8528-6ea4126b82de",
   "metadata": {},
   "source": [
    "## 2- Overriding Conversation History for Lower Input Token Consumption"
   ]
  },
  {
   "cell_type": "markdown",
   "id": "68edd737-d59a-4d55-86a3-67b7fa1be88b",
   "metadata": {},
   "source": [
    "#### Within a single session of an agent, the conversation history grows larger with each 'invokeAgent' API call. For example, if we execute the query 'What are the starters in the Children's Menu?', the agent's conversation history after processing this query would be:"
   ]
  },
  {
   "cell_type": "markdown",
   "id": "79ce2b5a-0b79-44a3-acf4-11b6f897367a",
   "metadata": {},
   "source": [
    "\n",
    "```json\n",
    "{\n",
    "  \"messages\": [\n",
    "    {\n",
    "      \"content\": \"What are the starters in Childrens Menu\\\"\",\n",
    "      \"role\": \"user\"\n",
    "    },\n",
    "    {\n",
    "      \"content\": \"<thinking>The user is asking about the starters available in the children's menu. To find this information, I will search the knowledge base.</thinking><function_calls><invoke><tool_name>GET::x_amz_knowledgebase_XXXXXXX::Search</tool_name><parameters><searchQuery>starters in children's menu</searchQuery></parameters></invoke></function_calls>\",\n",
    "      \"role\": \"assistant\"\n",
    "    },\n",
    "    {\n",
    "      \"content\": \"<function_results><result><tool_name>GET::x_amz_knowledgebase_XXXXXX::Search</tool_name><stdout>Here are search results in numbered order:\\n<search_result>\\n    <answer_part>\\n    <text>\\n        The Regrettable Experience \\\\u2013 Week  specials    Monday Lunch Specials    \\\\u2022 Soup of the Day: Hearty Lentil Soup (Vegetarian/Vegan)   \\\\u2022 Salad: Grilled Chicken Caesar Salad     Allergens: Dairy (in dressing), Gluten (in croutons), Eggs (in dressing)   \\\\u2022 Sandwich: BLT Wrap with Avocado     Allergens: Gluten (in wrap)     Tuesday Lunch Special     \\\\u2022 Soup of the Day: Creamy Tomato Basil (Vegetarian)   Allergens: Dairy     \\\\u2022 Salad: Strawberry Spinach Salad with Balsamic Vinaigrette   Allergens: Potential Tree Nuts (in vinaigrette)   Quiche: Broccoli and Cheddar Quiche   Allergens: Dairy, Eggs, Gluten (in crust)     Wednesday Lunch Special     \\\\u2022 Soup of the Day: Chicken Tortilla Soup   Allergens: Dairy, Gluten (in tortilla strips)     \\\\u2022 Salad: Greek Salad with Feta and Olives   Allergens: Dairy (in feta)     \\\\u2022 Flatbread: Margherita Flatbread   Allergens: Dairy, Gluten     Thursday Lunch Special     \\\\u2022 Soup of the Day: Black Bean Soup (Vegetarian/Vegan)   \\\\u2022 Salad: Southwest Chicken Salad with Avocado Ranch     Allergens: Dairy (in dressing), Eggs (in dressing)   \\\\u2022 Sandwich: Turkey Bacon Avocado Melt     Allergens: Dairy, Gluten (in bread)     Friday Lunch Special     \\\\u2022 Soup of the Day: New England Clam Chowder   Allergens: Dairy, Shellfish          \\\\u2022 Salad: BBQ Chicken Salad with Ranch   Allergens: Dairy (in dressing), Eggs (in dressing)     \\\\u2022 Burger: Black Bean Veggie Burger with Sweet Potato Fries   Allergens: Gluten (in bun), Soy (in veggie patty)         Please let your server know about any food allergies or dietary restrictions.\\n    </text>\\n    <sources>\\n        <source>1</source>\\n    </sources>\\n</answer_part>\\n<answer_part>\\n    <text>\\n        The Regrettable Experience -- Dinner Menu Entrees:   1. BUFFALO CHICKEN WINGS   \\\\u25CF   \\\\u25CF   Description: Classic buffalo wings served with celery sticks and blue cheese dressing.   Allergens: Dairy (in blue cheese dressing), Gluten (in the coating), possible Soy (in the sauce).   2. SHRIMP AND GRITS   \\\\u25CF   \\\\u25CF   Description: Succulent shrimp saut\\\\u00E9ed in a flavorful sauce, served over creamy cheese grits.   Allergens: Dairy (in the cheese grits).   3. CAPRESE SALAD STUFFED AVOCADO   \\\\u25CF   \\\\u25CF   Description: Avocado halves filled with a fresh caprese salad of tomatoes, mozzarella, and basil, drizzled with balsamic glaze.   Allergens: Dairy (in mozzarella), potential Tree Nuts (if using balsamic glaze with nuts).   4. LOADED POTATO SKINS   \\\\u25CF   \\\\u25CF   Description: Crispy potato skins filled with melted cheddar cheese, bacon bits, green onions, and a dollop of sour cream.   Allergens: Dairy (in cheese and sour cream), possible Soy (in bacon bits).   5. VEGETARIAN CHILI   \\\\u25CF   \\\\u25CF   Description: Hearty chili made with a variety of beans, vegetables, and spices, topped with shredded cheese and chopped green onions.   Allergens: None in the basic recipe, but be mindful of specific dietary restrictions.   Mains:   1. GRILLED BBQ CHICKEN   \\\\u25CF   \\\\u25CF   Description: Juicy grilled chicken breasts slathered in smoky barbecue sauce, served with coleslaw and baked beans.   Allergens: Possible Gluten (in barbecue sauce), potential Soy (in marinade).   2. SOUTHERN FRIED CATFISH   \\\\u25CF   \\\\u25CF   Description: Cornmeal-crusted catfish fillets, fried to perfection and served with hushpuppies and tartar sauce.   Allergens: Gluten (in the breading).   3. BBQ PULLED PORK SANDWICHES   \\\\u25CF   \\\\u25CF   Description: Slow-cooked pulled pork in tangy barbecue sauce, piled high on a bun and served with coleslaw.   Allergens: Possible Gluten (in barbecue sauce, bun), potential Soy (in sauce).   4.\\n    </text>\\n    <sources>\\n        <source>2</source>\\n    </sources>\\n</answer_part>\\n<answer_part>\\n    <text>\\n        Allergens: Gluten (in the breading).   3. BBQ PULLED PORK SANDWICHES   \\\\u25CF   \\\\u25CF   Description: Slow-cooked pulled pork in tangy barbecue sauce, piled high on a bun and served with coleslaw.   Allergens: Possible Gluten (in barbecue sauce, bun), potential Soy (in sauce).   4. STEAK WITH GARLIC BUTTER        \\\\u25CF   \\\\u25CF   Description: Grilled sirloin steak seasoned with garlic butter, accompanied by loaded mashed potatoes and saut\\\\u00E9ed vegetables.   Allergens: Dairy (in garlic butter), potential Soy (in marinade).   5. VEGETABLE STIR-FRY WITH TOFU   \\\\u25CF   \\\\u25CF   Description: Stir-fried tofu and a colorful medley of vegetables in a savory soy-ginger sauce, served over jasmine rice.   Allergens: Soy (in tofu and sauce).   Desserts:   1. CLASSIC NEW YORK CHEESECAKE   \\\\u25CF   \\\\u25CF   Description: Creamy cheesecake with a graham cracker crust, topped with a choice of fruit compote or chocolate ganache.   Allergens: Dairy (in cheesecake), Gluten (in the crust).   2. APPLE PIE A LA MODE   \\\\u25CF   \\\\u25CF   Description: Warm apple pie with a flaky crust, served with a scoop of vanilla ice cream and a drizzle of caramel sauce.   Allergens: Dairy (in ice cream), Gluten (in pie crust).   3. CHOCOLATE LAVA CAKE   \\\\u25CF   \\\\u25CF   Description: Rich and gooey chocolate cake with a molten center, dusted with powdered sugar and served with a scoop of raspberry sorbet.   Allergens: Dairy (in cake), possible Gluten (depending on recipe), potential Soy (in chocolate).   4. PECAN PIE BARS   \\\\u25CF   \\\\u25CF   Description: Buttery shortbread crust topped with a gooey pecan filling, cut into bars for easy serving.   Allergens: Dairy (in crust), Nuts (in pecan filling), Gluten (in crust).   5. BANANA PUDDING PARFAIT   \\\\u25CF   \\\\u25CF   Description: Layers of vanilla pudding, sliced bananas, and vanilla wafers, topped with whipped cream and a sprinkle of crushed nuts.   Allergens: Dairy (in pudding), Gluten (in wafers).\\n    </text>\\n    <sources>\\n        <source>3</source>\\n    </sources>\\n</answer_part>\\n<answer_part>\\n    <text>\\n        Allergens: Dairy, Gluten.   Suitable for Vegetarians: Yes   4. SPAGHETTI WITH MARINARA SAUCE   \\\\u25CF   \\\\u25CF   \\\\u25CF   Description: Kid-friendly spaghetti noodles topped with tomato marinara sauce.   Allergens: Gluten.   Suitable for Vegetarians: Yes   5. MINI PITA PIZZA   \\\\u25CF   \\\\u25CF   \\\\u25CF   Description: Small pita bread topped with tomato sauce, cheese, and favorite toppings.   Allergens: Dairy, Gluten.   Suitable for Vegetarians: Yes   Desserts:   1. MINI ICE CREAM SUNDAE   \\\\u25CF   \\\\u25CF   \\\\u25CF   Description: A scoop of vanilla ice cream with chocolate sauce and rainbow sprinkles.   Allergens: Dairy.   Suitable for Vegetarians: Yes   2. FRUIT KABOBS   \\\\u25CF   \\\\u25CF   \\\\u25CF   Description: Fresh fruit chunks on skewers for a fun and healthy dessert.   Allergens: None.   Suitable for Vegetarians: Yes   3. CHOCOLATE CHIP COOKIE BITES   \\\\u25CF   \\\\u25CF   \\\\u25CF   Description: Bite-sized chocolate chip cookies.   Allergens: Dairy, Gluten.   Suitable for Vegetarians: Yes   4. BANANA SPLIT   \\\\u25CF   \\\\u25CF   \\\\u25CF   Description: Sliced banana with scoops of strawberry, chocolate, and vanilla ice cream, topped with whipped cream and a cherry.   Allergens: Dairy.   Suitable for Vegetarians: Yes   5. JELLO CUPS   \\\\u25CF   \\\\u25CF   Description: Colorful and wiggly gelatin cups.   Allergens: None.        \\\\u25CF Suitable for Vegetarians: Yes\\n    </text>\\n    <sources>\\n        <source>4</source>\\n    </sources>\\n</answer_part>\\n<answer_part>\\n    <text>\\n        The Regrettable Experience \\\\u2014 Children's Menu Entrees:   1. CHICKEN NUGGETS   \\\\u25CF   \\\\u25CF   \\\\u25CF   Description: Crispy chicken nuggets served with a side of ketchup or ranch dressing.   Allergens: Gluten (in the coating), possible Soy.   Suitable for Vegetarians: No   2. MACARONI AND CHEESE   \\\\u25CF   \\\\u25CF   \\\\u25CF   Description: Classic macaroni pasta smothered in creamy cheese sauce.   Allergens: Dairy, Gluten.   Suitable for Vegetarians: Yes   3. MINI CHEESE QUESADILLAS   \\\\u25CF   \\\\u25CF   \\\\u25CF   Description: Small flour tortillas filled with melted cheese, served with a mild salsa.   Allergens: Dairy, Gluten.   Suitable for Vegetarians: Yes   4. PEANUT BUTTER AND BANANA SANDWICH   \\\\u25CF   \\\\u25CF   \\\\u25CF   Description: Peanut butter and banana slices on whole wheat bread.   Allergens: Nuts (peanut), Gluten.   Suitable for Vegetarians: Yes (if using vegetarian peanut butter)   5. VEGGIE PITA POCKETS   \\\\u25CF   \\\\u25CF   \\\\u25CF   Description: Mini whole wheat pita pockets filled with hummus, cucumber, and cherry tomatoes.   Allergens: Gluten, possible Soy.   Suitable for Vegetarians: Yes   Mains:   1. MINI CHEESEBURGERS   \\\\u25CF   \\\\u25CF   \\\\u25CF   Description: Small beef patties topped with cheese, served on mini buns.   Allergens: Dairy, Gluten.   Suitable for Vegetarians: No   2. FISH STICKS   \\\\u25CF   \\\\u25CF   \\\\u25CF   Description: Breaded fish sticks served with tartar sauce.   Allergens: Gluten (in the breading), possible Soy.   Suitable for Vegetarians: No        3. GRILLED CHEESE SANDWICH   \\\\u25CF   \\\\u25CF   \\\\u25CF   Description: Melted cheese between slices of buttered bread, grilled to perfection.   Allergens: Dairy, Gluten.   Suitable for Vegetarians: Yes   4. SPAGHETTI WITH MARINARA SAUCE   \\\\u25CF   \\\\u25CF   \\\\u25CF   Description: Kid-friendly spaghetti noodles topped with tomato marinara sauce.   Allergens: Gluten.   Suitable for Vegetarians: Yes   5.\\n    </text>\\n    <sources>\\n        <source>5</source>\\n    </sources>\\n</answer_part>\\n</search_result>\\n</stdout></result></function_results>\",\n",
    "      \"role\": \"user\"\n",
    "    },\n",
    "      {\n",
    "        \"content\": \"<answer>Based on the search results, the starters or appetizers listed in the children's menu are:\\n\\n1. Chicken nuggets - Crispy chicken nuggets served with ketchup or ranch dressing. Contains gluten and possible soy.\\n\\n2. Mini cheese quesadillas - Small flour tortillas filled with melted cheese, served with mild salsa. Contains dairy and gluten.\\n\\n3. Veggie pita pockets - Mini whole wheat pita pockets filled with hummus, cucumber, and cherry tomatoes. Contains gluten and possible soy. Suitable for vegetarians.</answer>\",\n",
    "        \"role\": \"assistant\"\n",
    "    }\n",
    "  ]\n",
    "}\n",
    "```"
   ]
  },
  {
   "cell_type": "markdown",
   "id": "4e124d83-5ba5-42e7-b3dd-d7f8ca505141",
   "metadata": {},
   "source": [
    "#### We can instead pass a simplified version of conversation history in the 'sessionState' parameter of the 'invokeAgent' API request. This approach ensures that we retain relevant content while decreasing the input token consumption. "
   ]
  },
  {
   "cell_type": "markdown",
   "id": "02c57ab4-32e5-4d13-9830-be1d4868c0f2",
   "metadata": {},
   "source": [
    "```json\n",
    "{\n",
    "    [\n",
    "        {\"content\": [{\"text\": \"According to the knowledge base, the children's menu at The Regrettable Experience does not have a separate starters section. However, some of the entree options could be considered starters or appetizers, such as:\n",
    "                    \n",
    "                    - Chicken nuggets (allergens: gluten, possible soy)\n",
    "                    - Macaroni and cheese (allergens: dairy, gluten)  \n",
    "                    - Mini cheese quesadillas (allergens: dairy, gluten)\n",
    "                    - Peanut butter and banana sandwich (allergens: nuts, gluten)\n",
    "                    - Veggie pita pockets (allergens: gluten, possible soy)\n",
    "                    - Mini cheeseburgers (allergens: dairy, gluten)\n",
    "                    - Fish sticks (allergens: gluten, possible soy)\n",
    "                    - Grilled cheese sandwich (allergens: dairy, gluten)\n",
    "                    - Spaghetti with marinara sauce (allergens: gluten)\n",
    "                \"}], \n",
    "             \"role\": \"assistant\"},\n",
    "            {\"content\": [{\"text\": \"What are the starters in the childrens menu?\"}], \"role\": \"user\"},\n",
    "    ]\n",
    "}\n",
    "```"
   ]
  },
  {
   "cell_type": "code",
   "execution_count": 19,
   "id": "6dc6d4d4-bb11-4262-8dd4-d8dddada06e9",
   "metadata": {},
   "outputs": [],
   "source": [
    "messages = [\n",
    "    \"What are the entree in Childrens Menu\",\n",
    "    \"Hi, I am Aku. I want to create a booking for 3 people, at 8pm on the 8th of June 2025.\",\n",
    "    \"I want to get the information about my recent booking\",\n",
    "    \"I want to delete the recent booking\"\n",
    "]"
   ]
  },
  {
   "cell_type": "markdown",
   "id": "bcff0104-cbbb-4019-8d6d-9e45349d1366",
   "metadata": {},
   "source": [
    "### Approach - 1: Using a single session and maintaining no conversation history"
   ]
  },
  {
   "cell_type": "markdown",
   "id": "ab69a6df-dbac-44e7-8954-a7d959c5ddad",
   "metadata": {},
   "source": [
    "#### Let's first invoke the agent using a single agent session, and take note of the input and output token counts at each turn of the conversation."
   ]
  },
  {
   "cell_type": "code",
   "execution_count": null,
   "id": "e8190529-eef8-4d2d-9ca9-7138bfa3424b",
   "metadata": {},
   "outputs": [],
   "source": [
    "session_id:str = str(uuid.uuid1())\n",
    "for message in messages:\n",
    "    response, _, _, _ = invokeAgent(query=message, session_id=session_id, enable_trace=True, session_state=dict())\n",
    "\n",
    "    print(colored(f\"User: {message}\", \"blue\"))\n",
    "    print(colored(f\"Assistant: {response}\", \"green\"))\n",
    "\n",
    "    print(colored(f\"Sleeping for 15 seconds.\", \"red\"))\n",
    "    time.sleep(15)"
   ]
  },
  {
   "cell_type": "markdown",
   "id": "9ccdd121-7592-45ce-9632-3d631941a992",
   "metadata": {},
   "source": [
    "### Approach - 2: Using Coversation History"
   ]
  },
  {
   "cell_type": "markdown",
   "id": "05d2712e-3818-4349-8d86-51d1ebd7b863",
   "metadata": {},
   "source": [
    "#### Now, let's invoke the agent using a new session at each turn of the conversation, while passing the stored conversation history in the 'sessionState' parameter. Take note of the input and output token counts in this case."
   ]
  },
  {
   "cell_type": "code",
   "execution_count": null,
   "id": "9778b037-3e30-4473-a068-ea6d3777c79d",
   "metadata": {},
   "outputs": [],
   "source": [
    "conversation_history = list()\n",
    "\n",
    "for message in messages:\n",
    "    session_id:str = str(uuid.uuid1())\n",
    "    session_state = {'conversationHistory': {'messages': conversation_history}}\n",
    "    response, _, _, _ = invokeAgent(query=message, session_id=session_id, enable_trace=True, session_state=session_state)\n",
    "\n",
    "    print(colored(f\"User: {message}\", \"blue\"))\n",
    "    print(colored(f\"Assistant: {response}\", \"green\"))\n",
    "\n",
    "    conversation_history.insert(0, {\"content\": [{\"text\": query}], \"role\": \"user\"})\n",
    "    conversation_history.insert(0, {\"content\": [{\"text\": response}], \"role\": \"assistant\"})\n",
    "    \n",
    "    invokeAgent(query=\"end\", session_id=session_id, enable_trace=False, session_state=dict(), end_session=True)\n",
    "\n",
    "    print(colored(f\"Sleeping for 15 seconds.\", \"red\"))\n",
    "\n",
    "    time.sleep(15)"
   ]
  },
  {
   "cell_type": "markdown",
   "id": "9167612a-3108-42e0-9e0e-40855f570423",
   "metadata": {},
   "source": [
    "#### Compare the input and output token counts between the two approaches. You will notice significantly higher input token consumption in the first approach. Providing a simplified version of conversation history at each agent invocation helps reduce the input token consumption."
   ]
  },
  {
   "cell_type": "markdown",
   "id": "232d5bad-7f41-4629-8a0e-04ecc4ff942b",
   "metadata": {},
   "source": [
    "## Approach 1 vs Approach 2 - Latency and Token Consumption"
   ]
  },
  {
   "cell_type": "code",
   "execution_count": 39,
   "id": "cf14b522-ad80-4c54-be21-88f6e9f0aa41",
   "metadata": {},
   "outputs": [],
   "source": [
    "messages = [\n",
    "    \"What are the entree in Childrens Menu\",\n",
    "    \"What are the weekly specials\",\n",
    "    \"Hi, I am Aku. I want to create a booking for 3 people, at 8pm on the 8th of June 2025.\",\n",
    "    \"I want to get the information about my recent booking\",\n",
    "    \"I want to delete the recent booking\",\n",
    "]"
   ]
  },
  {
   "cell_type": "code",
   "execution_count": null,
   "id": "cdb1aa08-7db1-4fb4-b223-56a3937f8f5d",
   "metadata": {},
   "outputs": [],
   "source": [
    "approach_one_data = list()\n",
    "\n",
    "for i in range(0, 10):\n",
    "    session_id:str = str(uuid.uuid1())\n",
    "    turn = list()\n",
    "    for message in messages:\n",
    "        agent_answer, execution_time, input_tokens, output_tokens = invokeAgent(query=message, session_id=session_id, enable_trace=True, session_state=dict())\n",
    "        turn.append({\"latency\": float(execution_time), \"inputTokens\": int(input_tokens), \"outputTokens\": int(output_tokens)})\n",
    "        time.sleep(25) # for throttling\n",
    "    \n",
    "    approach_one_data.append(turn)\n"
   ]
  },
  {
   "cell_type": "code",
   "execution_count": 41,
   "id": "d4c9dd09-18fa-400f-b617-e0e7b1c7d9f3",
   "metadata": {},
   "outputs": [],
   "source": [
    "# the json file where the output must be stored\n",
    "approach_one_data_json = open(\"approach_one_data.json\", \"w\")\n",
    "\n",
    "json.dump(approach_one_data, approach_one_data_json, indent = 6)\n",
    "\n",
    "approach_one_data_json.close()"
   ]
  },
  {
   "cell_type": "code",
   "execution_count": null,
   "id": "590534af-d3be-419d-bd1f-4df974dcbd27",
   "metadata": {},
   "outputs": [],
   "source": [
    "approach_two_data = list()\n",
    "\n",
    "for i in range(0, 10):\n",
    "    session_id:str = str(uuid.uuid1())\n",
    "    turn = list()\n",
    "    conversation_history = list()\n",
    "\n",
    "    for message in messages:\n",
    "        session_id:str = str(uuid.uuid1())\n",
    "        session_state = {'conversationHistory': {'messages': conversation_history}}\n",
    "        agent_answer, execution_time, input_tokens, output_tokens = invokeAgent(query=message, session_id=session_id, enable_trace=True, session_state=session_state)\n",
    "        turn.append({\"latency\": float(execution_time), \"inputTokens\": int(input_tokens), \"outputTokens\": int(output_tokens)})\n",
    "    \n",
    "        conversation_history.insert(0, {\"content\": [{\"text\": query}], \"role\": \"user\"})\n",
    "        conversation_history.insert(0, {\"content\": [{\"text\": agent_answer}], \"role\": \"assistant\"})\n",
    "        \n",
    "        _, _, _, _ = invokeAgent(query=\"end\", session_id=session_id, enable_trace=False, session_state=dict(), end_session=True)\n",
    "        \n",
    "        time.sleep(25) # for throttling\n",
    "\n",
    "    \n",
    "    approach_two_data.append(turn)"
   ]
  },
  {
   "cell_type": "code",
   "execution_count": null,
   "id": "26687f55-d65d-44e3-945f-9e54f44b15b7",
   "metadata": {},
   "outputs": [],
   "source": [
    "# the json file where the output must be stored\n",
    "approach_two_data_json = open(\"approach_two_data.json\", \"w\")\n",
    "\n",
    "json.dump(approach_two_data, approach_two_data_json, indent = 6)\n",
    "\n",
    "approach_two_data_json.close()"
   ]
  },
  {
   "cell_type": "code",
   "execution_count": 52,
   "id": "e3bb97c3-0fff-417f-898c-2b5a05a37b8b",
   "metadata": {},
   "outputs": [],
   "source": [
    "with open('approach_one_data.json', 'r') as f:\n",
    "    approach_one_data = json.load(f)\n",
    "\n",
    "with open('approach_two_data.json', 'r') as f:\n",
    "    approach_two_data = json.load(f)"
   ]
  },
  {
   "cell_type": "code",
   "execution_count": null,
   "id": "2ab1eed6-6cd6-4389-b1d2-a6d13d400ee7",
   "metadata": {},
   "outputs": [],
   "source": [
    "create_latency_boxplot(approach_one_data, approach_two_data)"
   ]
  },
  {
   "cell_type": "code",
   "execution_count": null,
   "id": "2f4de423-1f67-45f0-98fa-582a65a5e19f",
   "metadata": {},
   "outputs": [],
   "source": [
    "create_token_boxplot(approach_one_data, approach_two_data)"
   ]
  },
  {
   "cell_type": "code",
   "execution_count": null,
   "id": "6fee4ab0-f7f5-4b62-b8af-0eab811ebae9",
   "metadata": {},
   "outputs": [],
   "source": [
    "last_message_analytics(approach_one_data, approach_two_data)"
   ]
  },
  {
   "cell_type": "markdown",
   "id": "2cd13274-df7a-46cc-abb2-6e00a9d2bf48",
   "metadata": {},
   "source": [
    "## Cleanup"
   ]
  },
  {
   "cell_type": "code",
   "execution_count": null,
   "id": "653747cc-301f-40a7-b8cf-058d7b0d75b3",
   "metadata": {
    "tags": []
   },
   "outputs": [],
   "source": [
    "cleanup(agent_id, alias_id, kb_id, lambda_function, agent_action_group_response, knowledge_base)"
   ]
  }
 ],
 "metadata": {
  "availableInstances": [
   {
    "_defaultOrder": 0,
    "_isFastLaunch": true,
    "category": "General purpose",
    "gpuNum": 0,
    "hideHardwareSpecs": false,
    "memoryGiB": 4,
    "name": "ml.t3.medium",
    "vcpuNum": 2
   },
   {
    "_defaultOrder": 1,
    "_isFastLaunch": false,
    "category": "General purpose",
    "gpuNum": 0,
    "hideHardwareSpecs": false,
    "memoryGiB": 8,
    "name": "ml.t3.large",
    "vcpuNum": 2
   },
   {
    "_defaultOrder": 2,
    "_isFastLaunch": false,
    "category": "General purpose",
    "gpuNum": 0,
    "hideHardwareSpecs": false,
    "memoryGiB": 16,
    "name": "ml.t3.xlarge",
    "vcpuNum": 4
   },
   {
    "_defaultOrder": 3,
    "_isFastLaunch": false,
    "category": "General purpose",
    "gpuNum": 0,
    "hideHardwareSpecs": false,
    "memoryGiB": 32,
    "name": "ml.t3.2xlarge",
    "vcpuNum": 8
   },
   {
    "_defaultOrder": 4,
    "_isFastLaunch": true,
    "category": "General purpose",
    "gpuNum": 0,
    "hideHardwareSpecs": false,
    "memoryGiB": 8,
    "name": "ml.m5.large",
    "vcpuNum": 2
   },
   {
    "_defaultOrder": 5,
    "_isFastLaunch": false,
    "category": "General purpose",
    "gpuNum": 0,
    "hideHardwareSpecs": false,
    "memoryGiB": 16,
    "name": "ml.m5.xlarge",
    "vcpuNum": 4
   },
   {
    "_defaultOrder": 6,
    "_isFastLaunch": false,
    "category": "General purpose",
    "gpuNum": 0,
    "hideHardwareSpecs": false,
    "memoryGiB": 32,
    "name": "ml.m5.2xlarge",
    "vcpuNum": 8
   },
   {
    "_defaultOrder": 7,
    "_isFastLaunch": false,
    "category": "General purpose",
    "gpuNum": 0,
    "hideHardwareSpecs": false,
    "memoryGiB": 64,
    "name": "ml.m5.4xlarge",
    "vcpuNum": 16
   },
   {
    "_defaultOrder": 8,
    "_isFastLaunch": false,
    "category": "General purpose",
    "gpuNum": 0,
    "hideHardwareSpecs": false,
    "memoryGiB": 128,
    "name": "ml.m5.8xlarge",
    "vcpuNum": 32
   },
   {
    "_defaultOrder": 9,
    "_isFastLaunch": false,
    "category": "General purpose",
    "gpuNum": 0,
    "hideHardwareSpecs": false,
    "memoryGiB": 192,
    "name": "ml.m5.12xlarge",
    "vcpuNum": 48
   },
   {
    "_defaultOrder": 10,
    "_isFastLaunch": false,
    "category": "General purpose",
    "gpuNum": 0,
    "hideHardwareSpecs": false,
    "memoryGiB": 256,
    "name": "ml.m5.16xlarge",
    "vcpuNum": 64
   },
   {
    "_defaultOrder": 11,
    "_isFastLaunch": false,
    "category": "General purpose",
    "gpuNum": 0,
    "hideHardwareSpecs": false,
    "memoryGiB": 384,
    "name": "ml.m5.24xlarge",
    "vcpuNum": 96
   },
   {
    "_defaultOrder": 12,
    "_isFastLaunch": false,
    "category": "General purpose",
    "gpuNum": 0,
    "hideHardwareSpecs": false,
    "memoryGiB": 8,
    "name": "ml.m5d.large",
    "vcpuNum": 2
   },
   {
    "_defaultOrder": 13,
    "_isFastLaunch": false,
    "category": "General purpose",
    "gpuNum": 0,
    "hideHardwareSpecs": false,
    "memoryGiB": 16,
    "name": "ml.m5d.xlarge",
    "vcpuNum": 4
   },
   {
    "_defaultOrder": 14,
    "_isFastLaunch": false,
    "category": "General purpose",
    "gpuNum": 0,
    "hideHardwareSpecs": false,
    "memoryGiB": 32,
    "name": "ml.m5d.2xlarge",
    "vcpuNum": 8
   },
   {
    "_defaultOrder": 15,
    "_isFastLaunch": false,
    "category": "General purpose",
    "gpuNum": 0,
    "hideHardwareSpecs": false,
    "memoryGiB": 64,
    "name": "ml.m5d.4xlarge",
    "vcpuNum": 16
   },
   {
    "_defaultOrder": 16,
    "_isFastLaunch": false,
    "category": "General purpose",
    "gpuNum": 0,
    "hideHardwareSpecs": false,
    "memoryGiB": 128,
    "name": "ml.m5d.8xlarge",
    "vcpuNum": 32
   },
   {
    "_defaultOrder": 17,
    "_isFastLaunch": false,
    "category": "General purpose",
    "gpuNum": 0,
    "hideHardwareSpecs": false,
    "memoryGiB": 192,
    "name": "ml.m5d.12xlarge",
    "vcpuNum": 48
   },
   {
    "_defaultOrder": 18,
    "_isFastLaunch": false,
    "category": "General purpose",
    "gpuNum": 0,
    "hideHardwareSpecs": false,
    "memoryGiB": 256,
    "name": "ml.m5d.16xlarge",
    "vcpuNum": 64
   },
   {
    "_defaultOrder": 19,
    "_isFastLaunch": false,
    "category": "General purpose",
    "gpuNum": 0,
    "hideHardwareSpecs": false,
    "memoryGiB": 384,
    "name": "ml.m5d.24xlarge",
    "vcpuNum": 96
   },
   {
    "_defaultOrder": 20,
    "_isFastLaunch": false,
    "category": "General purpose",
    "gpuNum": 0,
    "hideHardwareSpecs": true,
    "memoryGiB": 0,
    "name": "ml.geospatial.interactive",
    "supportedImageNames": [
     "sagemaker-geospatial-v1-0"
    ],
    "vcpuNum": 0
   },
   {
    "_defaultOrder": 21,
    "_isFastLaunch": true,
    "category": "Compute optimized",
    "gpuNum": 0,
    "hideHardwareSpecs": false,
    "memoryGiB": 4,
    "name": "ml.c5.large",
    "vcpuNum": 2
   },
   {
    "_defaultOrder": 22,
    "_isFastLaunch": false,
    "category": "Compute optimized",
    "gpuNum": 0,
    "hideHardwareSpecs": false,
    "memoryGiB": 8,
    "name": "ml.c5.xlarge",
    "vcpuNum": 4
   },
   {
    "_defaultOrder": 23,
    "_isFastLaunch": false,
    "category": "Compute optimized",
    "gpuNum": 0,
    "hideHardwareSpecs": false,
    "memoryGiB": 16,
    "name": "ml.c5.2xlarge",
    "vcpuNum": 8
   },
   {
    "_defaultOrder": 24,
    "_isFastLaunch": false,
    "category": "Compute optimized",
    "gpuNum": 0,
    "hideHardwareSpecs": false,
    "memoryGiB": 32,
    "name": "ml.c5.4xlarge",
    "vcpuNum": 16
   },
   {
    "_defaultOrder": 25,
    "_isFastLaunch": false,
    "category": "Compute optimized",
    "gpuNum": 0,
    "hideHardwareSpecs": false,
    "memoryGiB": 72,
    "name": "ml.c5.9xlarge",
    "vcpuNum": 36
   },
   {
    "_defaultOrder": 26,
    "_isFastLaunch": false,
    "category": "Compute optimized",
    "gpuNum": 0,
    "hideHardwareSpecs": false,
    "memoryGiB": 96,
    "name": "ml.c5.12xlarge",
    "vcpuNum": 48
   },
   {
    "_defaultOrder": 27,
    "_isFastLaunch": false,
    "category": "Compute optimized",
    "gpuNum": 0,
    "hideHardwareSpecs": false,
    "memoryGiB": 144,
    "name": "ml.c5.18xlarge",
    "vcpuNum": 72
   },
   {
    "_defaultOrder": 28,
    "_isFastLaunch": false,
    "category": "Compute optimized",
    "gpuNum": 0,
    "hideHardwareSpecs": false,
    "memoryGiB": 192,
    "name": "ml.c5.24xlarge",
    "vcpuNum": 96
   },
   {
    "_defaultOrder": 29,
    "_isFastLaunch": true,
    "category": "Accelerated computing",
    "gpuNum": 1,
    "hideHardwareSpecs": false,
    "memoryGiB": 16,
    "name": "ml.g4dn.xlarge",
    "vcpuNum": 4
   },
   {
    "_defaultOrder": 30,
    "_isFastLaunch": false,
    "category": "Accelerated computing",
    "gpuNum": 1,
    "hideHardwareSpecs": false,
    "memoryGiB": 32,
    "name": "ml.g4dn.2xlarge",
    "vcpuNum": 8
   },
   {
    "_defaultOrder": 31,
    "_isFastLaunch": false,
    "category": "Accelerated computing",
    "gpuNum": 1,
    "hideHardwareSpecs": false,
    "memoryGiB": 64,
    "name": "ml.g4dn.4xlarge",
    "vcpuNum": 16
   },
   {
    "_defaultOrder": 32,
    "_isFastLaunch": false,
    "category": "Accelerated computing",
    "gpuNum": 1,
    "hideHardwareSpecs": false,
    "memoryGiB": 128,
    "name": "ml.g4dn.8xlarge",
    "vcpuNum": 32
   },
   {
    "_defaultOrder": 33,
    "_isFastLaunch": false,
    "category": "Accelerated computing",
    "gpuNum": 4,
    "hideHardwareSpecs": false,
    "memoryGiB": 192,
    "name": "ml.g4dn.12xlarge",
    "vcpuNum": 48
   },
   {
    "_defaultOrder": 34,
    "_isFastLaunch": false,
    "category": "Accelerated computing",
    "gpuNum": 1,
    "hideHardwareSpecs": false,
    "memoryGiB": 256,
    "name": "ml.g4dn.16xlarge",
    "vcpuNum": 64
   },
   {
    "_defaultOrder": 35,
    "_isFastLaunch": false,
    "category": "Accelerated computing",
    "gpuNum": 1,
    "hideHardwareSpecs": false,
    "memoryGiB": 61,
    "name": "ml.p3.2xlarge",
    "vcpuNum": 8
   },
   {
    "_defaultOrder": 36,
    "_isFastLaunch": false,
    "category": "Accelerated computing",
    "gpuNum": 4,
    "hideHardwareSpecs": false,
    "memoryGiB": 244,
    "name": "ml.p3.8xlarge",
    "vcpuNum": 32
   },
   {
    "_defaultOrder": 37,
    "_isFastLaunch": false,
    "category": "Accelerated computing",
    "gpuNum": 8,
    "hideHardwareSpecs": false,
    "memoryGiB": 488,
    "name": "ml.p3.16xlarge",
    "vcpuNum": 64
   },
   {
    "_defaultOrder": 38,
    "_isFastLaunch": false,
    "category": "Accelerated computing",
    "gpuNum": 8,
    "hideHardwareSpecs": false,
    "memoryGiB": 768,
    "name": "ml.p3dn.24xlarge",
    "vcpuNum": 96
   },
   {
    "_defaultOrder": 39,
    "_isFastLaunch": false,
    "category": "Memory Optimized",
    "gpuNum": 0,
    "hideHardwareSpecs": false,
    "memoryGiB": 16,
    "name": "ml.r5.large",
    "vcpuNum": 2
   },
   {
    "_defaultOrder": 40,
    "_isFastLaunch": false,
    "category": "Memory Optimized",
    "gpuNum": 0,
    "hideHardwareSpecs": false,
    "memoryGiB": 32,
    "name": "ml.r5.xlarge",
    "vcpuNum": 4
   },
   {
    "_defaultOrder": 41,
    "_isFastLaunch": false,
    "category": "Memory Optimized",
    "gpuNum": 0,
    "hideHardwareSpecs": false,
    "memoryGiB": 64,
    "name": "ml.r5.2xlarge",
    "vcpuNum": 8
   },
   {
    "_defaultOrder": 42,
    "_isFastLaunch": false,
    "category": "Memory Optimized",
    "gpuNum": 0,
    "hideHardwareSpecs": false,
    "memoryGiB": 128,
    "name": "ml.r5.4xlarge",
    "vcpuNum": 16
   },
   {
    "_defaultOrder": 43,
    "_isFastLaunch": false,
    "category": "Memory Optimized",
    "gpuNum": 0,
    "hideHardwareSpecs": false,
    "memoryGiB": 256,
    "name": "ml.r5.8xlarge",
    "vcpuNum": 32
   },
   {
    "_defaultOrder": 44,
    "_isFastLaunch": false,
    "category": "Memory Optimized",
    "gpuNum": 0,
    "hideHardwareSpecs": false,
    "memoryGiB": 384,
    "name": "ml.r5.12xlarge",
    "vcpuNum": 48
   },
   {
    "_defaultOrder": 45,
    "_isFastLaunch": false,
    "category": "Memory Optimized",
    "gpuNum": 0,
    "hideHardwareSpecs": false,
    "memoryGiB": 512,
    "name": "ml.r5.16xlarge",
    "vcpuNum": 64
   },
   {
    "_defaultOrder": 46,
    "_isFastLaunch": false,
    "category": "Memory Optimized",
    "gpuNum": 0,
    "hideHardwareSpecs": false,
    "memoryGiB": 768,
    "name": "ml.r5.24xlarge",
    "vcpuNum": 96
   },
   {
    "_defaultOrder": 47,
    "_isFastLaunch": false,
    "category": "Accelerated computing",
    "gpuNum": 1,
    "hideHardwareSpecs": false,
    "memoryGiB": 16,
    "name": "ml.g5.xlarge",
    "vcpuNum": 4
   },
   {
    "_defaultOrder": 48,
    "_isFastLaunch": false,
    "category": "Accelerated computing",
    "gpuNum": 1,
    "hideHardwareSpecs": false,
    "memoryGiB": 32,
    "name": "ml.g5.2xlarge",
    "vcpuNum": 8
   },
   {
    "_defaultOrder": 49,
    "_isFastLaunch": false,
    "category": "Accelerated computing",
    "gpuNum": 1,
    "hideHardwareSpecs": false,
    "memoryGiB": 64,
    "name": "ml.g5.4xlarge",
    "vcpuNum": 16
   },
   {
    "_defaultOrder": 50,
    "_isFastLaunch": false,
    "category": "Accelerated computing",
    "gpuNum": 1,
    "hideHardwareSpecs": false,
    "memoryGiB": 128,
    "name": "ml.g5.8xlarge",
    "vcpuNum": 32
   },
   {
    "_defaultOrder": 51,
    "_isFastLaunch": false,
    "category": "Accelerated computing",
    "gpuNum": 1,
    "hideHardwareSpecs": false,
    "memoryGiB": 256,
    "name": "ml.g5.16xlarge",
    "vcpuNum": 64
   },
   {
    "_defaultOrder": 52,
    "_isFastLaunch": false,
    "category": "Accelerated computing",
    "gpuNum": 4,
    "hideHardwareSpecs": false,
    "memoryGiB": 192,
    "name": "ml.g5.12xlarge",
    "vcpuNum": 48
   },
   {
    "_defaultOrder": 53,
    "_isFastLaunch": false,
    "category": "Accelerated computing",
    "gpuNum": 4,
    "hideHardwareSpecs": false,
    "memoryGiB": 384,
    "name": "ml.g5.24xlarge",
    "vcpuNum": 96
   },
   {
    "_defaultOrder": 54,
    "_isFastLaunch": false,
    "category": "Accelerated computing",
    "gpuNum": 8,
    "hideHardwareSpecs": false,
    "memoryGiB": 768,
    "name": "ml.g5.48xlarge",
    "vcpuNum": 192
   },
   {
    "_defaultOrder": 55,
    "_isFastLaunch": false,
    "category": "Accelerated computing",
    "gpuNum": 8,
    "hideHardwareSpecs": false,
    "memoryGiB": 1152,
    "name": "ml.p4d.24xlarge",
    "vcpuNum": 96
   },
   {
    "_defaultOrder": 56,
    "_isFastLaunch": false,
    "category": "Accelerated computing",
    "gpuNum": 8,
    "hideHardwareSpecs": false,
    "memoryGiB": 1152,
    "name": "ml.p4de.24xlarge",
    "vcpuNum": 96
   },
   {
    "_defaultOrder": 57,
    "_isFastLaunch": false,
    "category": "Accelerated computing",
    "gpuNum": 0,
    "hideHardwareSpecs": false,
    "memoryGiB": 32,
    "name": "ml.trn1.2xlarge",
    "vcpuNum": 8
   },
   {
    "_defaultOrder": 58,
    "_isFastLaunch": false,
    "category": "Accelerated computing",
    "gpuNum": 0,
    "hideHardwareSpecs": false,
    "memoryGiB": 512,
    "name": "ml.trn1.32xlarge",
    "vcpuNum": 128
   },
   {
    "_defaultOrder": 59,
    "_isFastLaunch": false,
    "category": "Accelerated computing",
    "gpuNum": 0,
    "hideHardwareSpecs": false,
    "memoryGiB": 512,
    "name": "ml.trn1n.32xlarge",
    "vcpuNum": 128
   }
  ],
  "instance_type": "ml.t3.medium",
  "kernelspec": {
   "display_name": "Python 3 (ipykernel)",
   "language": "python",
   "name": "python3"
  },
  "language_info": {
   "codemirror_mode": {
    "name": "ipython",
    "version": 3
   },
   "file_extension": ".py",
   "mimetype": "text/x-python",
   "name": "python",
   "nbconvert_exporter": "python",
   "pygments_lexer": "ipython3",
   "version": "3.10.14"
  }
 },
 "nbformat": 4,
 "nbformat_minor": 5
}
