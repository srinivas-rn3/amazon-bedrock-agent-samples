{
 "cells": [
  {
   "cell_type": "markdown",
   "id": "10257929-7a57-4113-9bb9-eda8f91b75d6",
   "metadata": {},
   "source": [
    "## Using metadata filtering with Amazon Bedrock Agents and Knowledge Bases\n",
    "\n",
    "Metadata filtering is a powerful feature that allows you to refine search results by pre-filtering the vector store based on custom metadata attributes. This approach narrows down the search space to the most relevant documents or passages, reducing noise and irrelevant information. \n",
    "\n",
    "In this notebook, we explore 3 different implementations of metadata filtering with Amazon Bedrock Agents.\n",
    "\n",
    "#### Method 1. Explicit metadata filtering\n",
    "\n",
    "In this method, the user creates their own filter and provides it to the Amazon Bedrock Agent during the agent `invoke_agent` API call. To change what is being filtered for, the user must manually edit the filter and pass it to the agent.\n",
    "\n",
    "Learn more [here](https://aws.amazon.com/blogs/machine-learning/amazon-bedrock-knowledge-bases-now-supports-metadata-filtering-to-improve-retrieval-accuracy/).\n",
    "\n",
    "![arch1](./images/architecture_1.png)\n",
    "\n",
    "#### Method 2. Intelligent metadata filtering custom approach\n",
    "\n",
    "This method uses LLMs on Amazon Bedrock and Pydantic data models to dynamically extract metadata filters from natural language queries. The process begins by the user asking a query, which is then processed by an LLM to extract relevant metadata. The extracted metadata is used to create a metadata filter, and then passed to Amazon Bedrock Agent. Finally, the generated response is returned to the user. The benefit of this method is that a filter does not need to be manually created and the filter can change throughout a conversation according to context.\n",
    "\n",
    "\n",
    "Learn more [here](https://aws.amazon.com/blogs/machine-learning/streamline-rag-applications-with-intelligent-metadata-filtering-using-amazon-bedrock/).\n",
    "\n",
    "![arch2](./images/architecture_2.png)\n",
    "\n",
    "#### Method 3. Implicit metadata filtering\n",
    "\n",
    "This method is similar to method 2, but uses a feature built-in to Amazon Bedrock Agents and Knowledge Bases. There is no need to use Pydantic data models or LLMs. Currently, this feature is only available for the following [FMs](https://docs.aws.amazon.com/bedrock/latest/userguide/what-is-bedrock.html).\n",
    "\n",
    "![arch3](./images/architecture_3.png)"
   ]
  },
  {
   "cell_type": "markdown",
   "id": "44cad371-79ee-4c08-a154-481614e5de8d",
   "metadata": {},
   "source": [
    "### Solution Overview\n",
    "\n",
    "In this notebook, we demonstrate how to create a **sample dataset**, **Amazon Bedrock Knowledge Base**, and **Amazon Bedrock Agent**. \n",
    "\n",
    "Our sample dataset consists of 5 fictional employees of ExampleCompany, each with:\n",
    "1. A .pdf file detailing their financial benefits. \n",
    "2. A .pdf file detailing their healthcare benefits.\n",
    "3. Metadata attached to each .pdf file. The metadata attributes are `employee_name`, `role`, and `document_type`.\n",
    "\n",
    "After setting up resources, we implement the **3 metadata filtering methods**. \n",
    "\n",
    "For each method, we are using the scenario: An employee named Alex Anderson is looking for information about his 401k. The information he is looking for is stored in a .pdf file with the metadata attributes `employee_name=Alex Anderson` and `document_type=finance`."
   ]
  },
  {
   "cell_type": "markdown",
   "id": "34923f54-23e6-4d62-8a2b-2d40b5ee7690",
   "metadata": {},
   "source": [
    "### Prerequisites\n",
    "Before proceeding with this tutorial, make sure you have the following in place:\n",
    "\n",
    "- **AWS account** – You should have an AWS account with access to Amazon Bedrock.\n",
    "- **Model access** – Amazon Bedrock users need to request access to FMs before they’re available for use. For this solution, you need to enable access to the Amazon Titan Embeddings G1 – Text, Amazon Nova Lite, Anthropic's Claude Instant, and Anthropic's Claude 3.5 Sonnet v2."
   ]
  },
  {
   "cell_type": "markdown",
   "id": "5a5aa8b7-23c4-4be1-ba47-b93e2026cdd4",
   "metadata": {},
   "source": [
    "### Set up the environment \n",
    "First, set up your environment with the necessary imports and Boto3 clients"
   ]
  },
  {
   "cell_type": "code",
   "execution_count": null,
   "id": "cf3a4b2b-c7ef-46c8-8975-f992944d7392",
   "metadata": {},
   "outputs": [],
   "source": [
    "!pip install -q boto3 fpdf pydantic opensearch-py retrying termcolor rich reportlab"
   ]
  },
  {
   "cell_type": "code",
   "execution_count": null,
   "id": "37b84bbe-39db-4250-ad5e-d58ef83e52c4",
   "metadata": {},
   "outputs": [],
   "source": [
    "!pip install boto3==1.37.4"
   ]
  },
  {
   "cell_type": "code",
   "execution_count": null,
   "id": "82ce087e-2a7d-4c1e-9cfc-538ca756fefa",
   "metadata": {},
   "outputs": [],
   "source": [
    "import boto3\n",
    "import uuid\n",
    "import textwrap\n",
    "import os\n",
    "import json\n",
    "import sys\n",
    "\n",
    "sys.path.insert(0, \".\")\n",
    "sys.path.insert(1, \"./../../../\")\n",
    "\n",
    "from fpdf import FPDF\n",
    "from typing import List, Optional\n",
    "from pydantic import BaseModel, validator\n",
    "from reportlab.pdfgen import canvas\n",
    "from reportlab.lib.pagesizes import letter\n",
    "from reportlab.pdfbase import pdfmetrics\n",
    "from reportlab.pdfbase.ttfonts import TTFont\n",
    "from reportlab.lib.utils import simpleSplit\n",
    "from src.utils.knowledge_base_helper import KnowledgeBasesForAmazonBedrock\n",
    "from src.utils.bedrock_agent_helper import AgentsForAmazonBedrock\n",
    "\n",
    "session = boto3.session.Session()\n",
    "region = session.region_name\n",
    "s3_client = boto3.client(\"s3\", region_name=region)\n",
    "sts_client = boto3.client(\"sts\")\n",
    "bedrock_runtime_client = boto3.client(\"bedrock-runtime\", region_name=region)\n",
    "bedrock_client = boto3.client(\"bedrock\")\n",
    "iam_client = boto3.client(\"iam\")"
   ]
  },
  {
   "cell_type": "markdown",
   "id": "2a7ecc90-fdb9-494c-add9-57d7d602cd3f",
   "metadata": {},
   "source": [
    "### Prepare a dataset for Amazon Bedrock Knowledge Bases\n"
   ]
  },
  {
   "cell_type": "markdown",
   "id": "cb4cb68b-1043-4904-8c0f-664080ba85de",
   "metadata": {},
   "source": [
    "Create an Amazon Simple Storage Service (Amazon S3) bucket to store the data."
   ]
  },
  {
   "cell_type": "code",
   "execution_count": null,
   "id": "27f218e2-8af1-49aa-bbd4-fb97785dc8e0",
   "metadata": {},
   "outputs": [],
   "source": [
    "account_id = sts_client.get_caller_identity()[\"Account\"]\n",
    "unique_suffix = uuid.uuid4().hex[:4]\n",
    "bucket_name = f\"bedrock-documents-{account_id}-{unique_suffix}\"\n",
    "\n",
    "s3_client.create_bucket(Bucket=bucket_name)\n",
    "print(f\"Bucket '{bucket_name}' created successfully in {region}!\")"
   ]
  },
  {
   "cell_type": "markdown",
   "id": "8bea4c4d-2b79-4322-8f75-e70d2dcb2473",
   "metadata": {},
   "source": [
    "Create local folders to store the data that will be generated."
   ]
  },
  {
   "cell_type": "code",
   "execution_count": null,
   "id": "d659c69f-17bf-45d7-8195-a76356a9ac1f",
   "metadata": {},
   "outputs": [],
   "source": [
    "! mkdir sample_documents sample_documents/healthcare sample_documents/finance"
   ]
  },
  {
   "cell_type": "markdown",
   "id": "597d3cfc-1f04-4bce-8688-2849895c57f3",
   "metadata": {},
   "source": [
    "Generate sample data for five employees of ExampleCompany. \n",
    "\n",
    "- Finance documents have the naming structure `finance-x.pdf`\n",
    "- Healthcare documents have the naming structure `healthcare-x.pdf`\n",
    "- Metadata files have the suffix `.metadata.json`\n"
   ]
  },
  {
   "cell_type": "code",
   "execution_count": null,
   "id": "4a7529d8-383a-4317-b6bf-11d15a647cf2",
   "metadata": {},
   "outputs": [],
   "source": [
    "# Function to generate sample documents\n",
    "MODEL_ID = \"us.amazon.nova-lite-v1:0\"\n",
    "\n",
    "\n",
    "def generate_sample_document(prompt):\n",
    "    system_list = [\n",
    "        {\n",
    "            \"text\": \"You are helping to generate sample data. When the user provides you with a prompt, write a complete and realistic document for that prompt. \"\n",
    "        }\n",
    "    ]\n",
    "\n",
    "    message_list = [{\"role\": \"user\", \"content\": [{\"text\": prompt}]}]\n",
    "\n",
    "    inf_params = {\"maxTokens\": 500, \"topP\": 0.9, \"topK\": 20, \"temperature\": 0.3}\n",
    "\n",
    "    request_body = {\n",
    "        \"schemaVersion\": \"messages-v1\",\n",
    "        \"messages\": message_list,\n",
    "        \"system\": system_list,\n",
    "        \"inferenceConfig\": inf_params,\n",
    "    }\n",
    "\n",
    "    response = bedrock_runtime_client.invoke_model(\n",
    "        modelId=MODEL_ID, body=json.dumps(request_body)\n",
    "    )\n",
    "    response_body = json.loads(response[\"body\"].read().decode(\"utf-8\"))\n",
    "    response = response_body[\"output\"][\"message\"][\"content\"][0][\"text\"]\n",
    "    return response\n",
    "\n",
    "\n",
    "# Function to convert multi-line text to PDF\n",
    "def text_to_pdf(text, filename, file_path):\n",
    "    c = canvas.Canvas(f\"{file_path}/{filename}\", pagesize=letter)\n",
    "    width, height = letter\n",
    "    y = height - 40\n",
    "\n",
    "    lines = simpleSplit(text, \"Helvetica\", 12, width - 80)\n",
    "\n",
    "    for line in lines:\n",
    "        if y < 40:  # Check if we need a new page\n",
    "            c.showPage()\n",
    "            y = height - 40\n",
    "        c.drawString(40, y, line)\n",
    "        y -= 15  # Move down for next line\n",
    "\n",
    "    c.save()\n",
    "    print(f\"Created {file_path}/{filename}\")\n",
    "\n",
    "\n",
    "# Function to create metadata\n",
    "def generate_metadata(employee_name, role, document_type, filename, file_path):\n",
    "    metadata = {\n",
    "        \"metadataAttributes\": {\n",
    "            \"employee_name\": employee_name,\n",
    "            \"role\": role,\n",
    "            \"document_type\": document_type,\n",
    "        }\n",
    "    }\n",
    "\n",
    "    metadata_filename = f\"{filename}.metadata.json\"\n",
    "    with open(f\"{file_path}/{metadata_filename}\", \"w\") as f:\n",
    "        json.dump(metadata, f, indent=4)\n",
    "    print(f\"Created {file_path}/{metadata_filename}\")"
   ]
  },
  {
   "cell_type": "code",
   "execution_count": null,
   "id": "5ab338d2-1fba-4f2d-96c4-fc2ee4f6c513",
   "metadata": {},
   "outputs": [],
   "source": [
    "employee_list = [\n",
    "    {\"name\": \"Alex Anderson\", \"role\": \"independent_worker\"},\n",
    "    {\"name\": \"Beth Baker\", \"role\": \"manager\"},\n",
    "    {\"name\": \"Charlie Cook\", \"role\": \"independent_worker\"},\n",
    "    {\"name\": \"Dave Duncan\", \"role\": \"manager\"},\n",
    "    {\"name\": \"Emily Eaton\", \"role\": \"independent_worker\"},\n",
    "]\n",
    "\n",
    "# Create sample healthcare documents and metadata\n",
    "for index, employee in enumerate(employee_list):\n",
    "    prompt = \"Generate a healthcare benefits document for an employee of ExampleCompany. The document needs to be one page long and includes a section on medical benefits, a dental plan, and a vision plan.\"\n",
    "    text = generate_sample_document(prompt)\n",
    "\n",
    "    output_filename = f\"healthcare-{index}\"\n",
    "    output_file_path = \"sample_documents/healthcare\"\n",
    "\n",
    "    text_to_pdf(text, output_filename, output_file_path)\n",
    "    generate_metadata(\n",
    "        employee[\"name\"],\n",
    "        employee[\"role\"],\n",
    "        \"healthcare\",\n",
    "        output_filename,\n",
    "        output_file_path,\n",
    "    )\n",
    "\n",
    "\n",
    "# Create sample finance documents and metadata\n",
    "for index, employee in enumerate(employee_list):\n",
    "    prompt = \"Generate a finance benefits document for an employee of ExampleCompany. The document needs to be one page long and includes a 401k plan and stock options.\"\n",
    "    text = generate_sample_document(prompt)\n",
    "\n",
    "    output_filename = f\"finance-{index}\"\n",
    "    output_file_path = \"sample_documents/finance\"\n",
    "\n",
    "    text_to_pdf(text, output_filename, output_file_path)\n",
    "    generate_metadata(\n",
    "        employee[\"name\"],\n",
    "        employee[\"role\"],\n",
    "        \"finance\",\n",
    "        output_filename,\n",
    "        output_file_path,\n",
    "    )"
   ]
  },
  {
   "cell_type": "markdown",
   "id": "93f134e6-b264-4750-999d-10264ba760a5",
   "metadata": {},
   "source": [
    "### Create a knowledge base for Amazon Bedrock\n",
    "\n",
    "The knowledge base connects the Amazon Bedrock model to your dataset for Retrieval Augmented Generation (RAG)."
   ]
  },
  {
   "cell_type": "code",
   "execution_count": null,
   "id": "0de14f6e-3853-4898-a9ac-91eda38e06bf",
   "metadata": {},
   "outputs": [],
   "source": [
    "kb = KnowledgeBasesForAmazonBedrock()\n",
    "\n",
    "kb_name = f\"my-knowledge-base-{unique_suffix}\"\n",
    "kb_description = \"Knowledge base for documents and metadata\"\n",
    "kb_bucket = bucket_name\n",
    "\n",
    "kb_id, ds_id = kb.create_or_retrieve_knowledge_base(\n",
    "    kb_name,\n",
    "    kb_description,\n",
    "    kb_bucket,\n",
    ")"
   ]
  },
  {
   "cell_type": "markdown",
   "id": "261b3802-ad72-40a8-a641-1fc5ece81188",
   "metadata": {},
   "source": [
    "### Upload data to S3\n",
    "Upload the data that you generated to the Amazon S3 bucket you created earlier. Healthcare documents and its metadata will be stored in the folder `s3://bedrock-documents-xxxxxxxxxxxx-xxxxxxx/healthcare`. Finance documents and its metadata will be stored in the folder `s3://bedrock-documents-xxxxxxxxxxxx-xxxxxxx/finance`."
   ]
  },
  {
   "cell_type": "code",
   "execution_count": null,
   "id": "b2ff2fbb-f535-4f2e-ba52-cf169441c775",
   "metadata": {},
   "outputs": [],
   "source": [
    "def upload_folder_to_s3(local_path, bucket_name, s3_key):\n",
    "    for filename in os.listdir(local_path):\n",
    "        if \".ipynb\" in filename:\n",
    "            pass\n",
    "        else:\n",
    "            s3_client.upload_file(\n",
    "                local_path + filename, bucket_name, f\"{s3_key}/{filename}\"\n",
    "            )\n",
    "            print(f\"Uploaded {filename} to {bucket_name}/{s3_key}\")"
   ]
  },
  {
   "cell_type": "code",
   "execution_count": null,
   "id": "58012990-6b09-4c6f-9ccc-1a77655abd5a",
   "metadata": {},
   "outputs": [],
   "source": [
    "upload_folder_to_s3(\"sample_documents/healthcare/\", bucket_name, \"healthcare\")\n",
    "upload_folder_to_s3(\"sample_documents/finance/\", bucket_name, \"finance\")"
   ]
  },
  {
   "cell_type": "markdown",
   "id": "b83ff32e-b2da-491e-bf27-882eb7dffd45",
   "metadata": {},
   "source": [
    "### Synchronize the dataset with the knowledge base\n",
    "\n",
    "After you create the knowledge base and your data files and metadata files are in an Amazon S3 bucket, you can sync to ingest your data sources into the knowledge base.\n",
    "\n"
   ]
  },
  {
   "cell_type": "code",
   "execution_count": null,
   "id": "1d5662b4-2442-4a7d-91bf-30a5b52217d5",
   "metadata": {},
   "outputs": [],
   "source": [
    "kb.synchronize_data(kb_id, ds_id)"
   ]
  },
  {
   "cell_type": "markdown",
   "id": "11fe93ba-4e19-4994-bc4b-0d54f15ec280",
   "metadata": {},
   "source": [
    "### Create the Bedrock agent"
   ]
  },
  {
   "cell_type": "code",
   "execution_count": null,
   "id": "f55b223a-3a18-4b9f-86ae-8d0134b9c994",
   "metadata": {},
   "outputs": [],
   "source": [
    "agents = AgentsForAmazonBedrock()\n",
    "\n",
    "agent_name = f\"my-bedrock-agent-{unique_suffix}\"\n",
    "agent_description = \"Agent for finance and healthcare documents\"\n",
    "agent_instructions = \"You are a helpful chatbot for employees of a company. Answer in a polite and netural tone.\"\n",
    "agent_foundation_model = [\n",
    "    \"anthropic.claude-3-sonnet-20240229-v1:0\",\n",
    "    \"anthropic.claude-3-5-sonnet-20240620-v1:0\",\n",
    "    \"anthropic.claude-3-haiku-20240307-v1:0\",\n",
    "]\n",
    "\n",
    "# CREATE AGENT\n",
    "agent_id, agent_alias_id, agent_alias_arn = agents.create_agent(\n",
    "    agent_name=agent_name,\n",
    "    agent_description=agent_description,\n",
    "    agent_instructions=agent_instructions,\n",
    "    model_ids=agent_foundation_model,  # IDs of the foundation models this agent is allowed to use, the first one will be used\n",
    "    # to create the agent, and the others will also be captured in the agent IAM role for future use\n",
    ")\n",
    "\n",
    "# WAIT FOR STATUS UPDATE\n",
    "agents.wait_agent_status_update(agent_id=agent_id)\n",
    "\n",
    "# PREPARE AGENT\n",
    "agents.prepare(agent_name=agent_name)\n",
    "\n",
    "# WAIT FOR STATUS UPDATE\n",
    "agents.wait_agent_status_update(agent_id=agent_id)"
   ]
  },
  {
   "cell_type": "markdown",
   "id": "88bbc826-c648-41b6-8dc3-179e724f2cf1",
   "metadata": {},
   "source": [
    "### Associate the Bedrock agent with the knowledge base."
   ]
  },
  {
   "cell_type": "code",
   "execution_count": null,
   "id": "42715c4f-fd3f-45e1-8713-65b1436d80d4",
   "metadata": {},
   "outputs": [],
   "source": [
    "agents.associate_kb_with_agent(agent_id, agent_description, kb_id)"
   ]
  },
  {
   "cell_type": "markdown",
   "id": "55d574f1-a295-4e00-8f7c-1f958573e95c",
   "metadata": {},
   "source": [
    "Now that we have set up the Bedrock knowledge base and Bedrock agent, let's look at 3 different ways to implement metadata filtering."
   ]
  },
  {
   "cell_type": "markdown",
   "id": "5b237a39-d872-4b5a-bba9-8905c92b4bf4",
   "metadata": {},
   "source": [
    "### Method 1. Using explicit metadata filtering\n",
    "\n",
    "![arch1](./images/architecture_1.png)"
   ]
  },
  {
   "cell_type": "markdown",
   "id": "8fd3622b-527a-44d8-b02f-2ccc917d35aa",
   "metadata": {},
   "source": [
    "Construct the filters (the following are some examples):"
   ]
  },
  {
   "cell_type": "code",
   "execution_count": null,
   "id": "2e0d15c0-34d6-4531-82f4-93c5366d6981",
   "metadata": {},
   "outputs": [],
   "source": [
    "single_filter = {\"equals\": {\"key\": \"employee_name\", \"value\": \"Alex Anderson\"}}\n",
    "\n",
    "one_group_filter = {\n",
    "    \"andAll\": [\n",
    "        {\"equals\": {\"key\": \"employee_name\", \"value\": \"Alex Anderson\"}},\n",
    "        {\"equals\": {\"key\": \"document_type\", \"value\": \"finance\"}},\n",
    "    ]\n",
    "}"
   ]
  },
  {
   "cell_type": "markdown",
   "id": "22178b7f-67e1-418e-b3d6-ac599a4cd6e4",
   "metadata": {},
   "source": [
    "Pass the filter to `retrievalConfiguration`."
   ]
  },
  {
   "cell_type": "code",
   "execution_count": null,
   "id": "0bf547df-d965-412f-8d29-0d7c390ce0ad",
   "metadata": {},
   "outputs": [],
   "source": [
    "session_state = {\n",
    "    \"knowledgeBaseConfigurations\": [\n",
    "        {\n",
    "            \"knowledgeBaseId\": kb_id,\n",
    "            \"retrievalConfiguration\": {\n",
    "                \"vectorSearchConfiguration\": {\"filter\": one_group_filter}\n",
    "            },\n",
    "        }\n",
    "    ]\n",
    "}"
   ]
  },
  {
   "cell_type": "markdown",
   "id": "4a9b80b0-ead7-421c-9c2f-81b41218f010",
   "metadata": {},
   "source": [
    "Invoke the Amazon Bedrock agent and view the response. \n",
    "\n",
    "In this example, we have passed in a filter where `employee_name=Alex Anderson` and `document_type=finance`."
   ]
  },
  {
   "cell_type": "code",
   "execution_count": null,
   "id": "cbf2da3b-050f-4c25-b47b-69d090e7af7a",
   "metadata": {},
   "outputs": [],
   "source": [
    "text = \"How much will my employer match my 401k contribution?\"\n",
    "response = agents.invoke(\n",
    "    input_text=text,\n",
    "    agent_id=agent_id,\n",
    "    agent_alias_id=agent_alias_id,\n",
    "    session_state=session_state,\n",
    ")\n",
    "print(response)"
   ]
  },
  {
   "cell_type": "markdown",
   "id": "3ec550e8-07d8-4aac-89f2-1e9ca9fa119b",
   "metadata": {},
   "source": [
    "### Method 2: Intelligent meta data filtering custom approach\n",
    "\n",
    "![arch2](./images/architecture_2.png)"
   ]
  },
  {
   "cell_type": "markdown",
   "id": "987db636-c47c-4a9f-a01a-5c1a2f8f11e9",
   "metadata": {},
   "source": [
    "Define Pydantic models to validate and strucutre our extracted entities:"
   ]
  },
  {
   "cell_type": "code",
   "execution_count": null,
   "id": "eeb13270-03c0-491b-99e9-8856a8d8e946",
   "metadata": {},
   "outputs": [],
   "source": [
    "class Entity(BaseModel):\n",
    "    employee_name: Optional[str]\n",
    "    document_type: Optional[str]\n",
    "    role: Optional[str]\n",
    "\n",
    "\n",
    "class ExtractedEntities(BaseModel):\n",
    "    entities: List[Entity]\n",
    "\n",
    "    @validator(\"entities\", pre=True)\n",
    "    def remove_duplicates(cls, entities):\n",
    "        unique_entities = []\n",
    "        seen = set()\n",
    "        for entity in entities:\n",
    "            entity_tuple = tuple(sorted(entity.items()))\n",
    "            if entity_tuple not in seen:\n",
    "                seen.add(entity_tuple)\n",
    "                unique_entities.append(dict(entity_tuple))\n",
    "        return unique_entities"
   ]
  },
  {
   "cell_type": "markdown",
   "id": "46352ca0-4e22-4ab5-bd9b-d44be7a36852",
   "metadata": {},
   "source": [
    "You now define a tool for entity extraction with basic instructions and use it with Amazon Bedrock. You should use a proper description for this to work for your use case:"
   ]
  },
  {
   "cell_type": "code",
   "execution_count": null,
   "id": "c6434086-3424-4ba4-a2aa-1a1e673400b3",
   "metadata": {},
   "outputs": [],
   "source": [
    "tools = [\n",
    "    {\n",
    "        \"toolSpec\": {\n",
    "            \"name\": \"extract_entities\",\n",
    "            \"description\": \"Extract named entities from the text. If you are not 100% sure of the entity value, use 'unknown'.\",\n",
    "            \"inputSchema\": {\n",
    "                \"json\": {\n",
    "                    \"type\": \"object\",\n",
    "                    \"properties\": {\n",
    "                        \"entities\": {\n",
    "                            \"type\": \"array\",\n",
    "                            \"items\": {\n",
    "                                \"type\": \"object\",\n",
    "                                \"properties\": {\n",
    "                                    \"employee_name\": {\n",
    "                                        \"type\": \"string\",\n",
    "                                        \"description\": \"The name of the user. There should be a first and last name.\",\n",
    "                                    },\n",
    "                                    \"document_type\": {\n",
    "                                        \"type\": \"string\",\n",
    "                                        \"description\": \"The type of document the user wants. It is either healthcare or finance.\",\n",
    "                                    },\n",
    "                                    \"role\": {\n",
    "                                        \"type\": \"string\",\n",
    "                                        \"description\": \"The type of role the user is. It is either manager or independent worker.\",\n",
    "                                    },\n",
    "                                },\n",
    "                                \"required\": [\"employee_name\", \"document_type\", \"role\"],\n",
    "                            },\n",
    "                        }\n",
    "                    },\n",
    "                    \"required\": [\"entities\"],\n",
    "                }\n",
    "            },\n",
    "        }\n",
    "    }\n",
    "]\n",
    "\n",
    "MODEL_ID = \"anthropic.claude-3-sonnet-20240229-v1:0\"\n",
    "\n",
    "\n",
    "def extract_entities(text):\n",
    "    response = bedrock_runtime_client.converse(\n",
    "        modelId=MODEL_ID,\n",
    "        inferenceConfig={\"temperature\": 0, \"maxTokens\": 4000},\n",
    "        toolConfig={\"tools\": tools},\n",
    "        messages=[{\"role\": \"user\", \"content\": [{\"text\": text}]}],\n",
    "    )\n",
    "\n",
    "    json_entities = None\n",
    "    for content in response[\"output\"][\"message\"][\"content\"]:\n",
    "        if \"toolUse\" in content and content[\"toolUse\"][\"name\"] == \"extract_entities\":\n",
    "            json_entities = content[\"toolUse\"][\"input\"]\n",
    "            break\n",
    "\n",
    "    if json_entities:\n",
    "        return ExtractedEntities.parse_obj(json_entities)\n",
    "    else:\n",
    "        print(\"No entities found in the response.\")\n",
    "        return None"
   ]
  },
  {
   "cell_type": "markdown",
   "id": "895a1f24-6e2e-41cd-9cbd-bef26ef73c07",
   "metadata": {},
   "source": [
    "Create a function to construct the metadata filter based on the extracted entities:"
   ]
  },
  {
   "cell_type": "code",
   "execution_count": null,
   "id": "0dcaab23-20a5-4e9a-9c5b-d18b7c5ffa5c",
   "metadata": {},
   "outputs": [],
   "source": [
    "def construct_metadata_filter(extracted_entities):\n",
    "    if not extracted_entities or not extracted_entities.entities:\n",
    "        return None\n",
    "\n",
    "    entity = extracted_entities.entities[0]\n",
    "    metadata_filter = {\"andAll\": []}\n",
    "\n",
    "    if entity.employee_name and entity.employee_name != \"unknown\":\n",
    "        metadata_filter[\"andAll\"].append(\n",
    "            {\"equals\": {\"key\": \"employee_name\", \"value\": entity.employee_name}}\n",
    "        )\n",
    "\n",
    "    if entity.document_type and entity.document_type != \"unknown\":\n",
    "        metadata_filter[\"andAll\"].append(\n",
    "            {\"equals\": {\"key\": \"document_type\", \"value\": entity.document_type}}\n",
    "        )\n",
    "\n",
    "    if entity.role and entity.role != \"unknown\":\n",
    "        metadata_filter[\"andAll\"].append(\n",
    "            {\"equals\": {\"key\": \"role\", \"value\": entity.role}}\n",
    "        )\n",
    "\n",
    "    return metadata_filter if metadata_filter[\"andAll\"] else None"
   ]
  },
  {
   "cell_type": "markdown",
   "id": "20bf9521-c9f2-408c-9982-99bed6e2c415",
   "metadata": {},
   "source": [
    "Create a main function that processes the query and retrieves results:"
   ]
  },
  {
   "cell_type": "code",
   "execution_count": null,
   "id": "322c5b28-d836-41af-b09f-cc65f00ac921",
   "metadata": {},
   "outputs": [],
   "source": [
    "def process_query(text):\n",
    "    extracted_entities = extract_entities(text)\n",
    "    metadata_filter = construct_metadata_filter(extracted_entities)\n",
    "\n",
    "    session_state = {\n",
    "        \"knowledgeBaseConfigurations\": [\n",
    "            {\n",
    "                \"knowledgeBaseId\": kb_id,\n",
    "                \"retrievalConfiguration\": {\n",
    "                    \"vectorSearchConfiguration\": {\n",
    "                        \"filter\": metadata_filter,\n",
    "                    }\n",
    "                },\n",
    "            }\n",
    "        ]\n",
    "    }\n",
    "    response = agents.invoke(\n",
    "        input_text=text,\n",
    "        agent_id=agent_id,\n",
    "        agent_alias_id=agent_alias_id,\n",
    "        session_state=session_state,\n",
    "    )\n",
    "    return response"
   ]
  },
  {
   "cell_type": "markdown",
   "id": "9c80840c-560f-43f8-85ca-d08cee1eab05",
   "metadata": {},
   "source": [
    "Invoke the Amazon Bedrock agent and view the response. \n",
    "\n",
    "In this example, the LLM dynamically extracts the metadata attributes `employee_name=Alex Anderson` and `document_type=finance` from the query, creates a filter using those attributes, and then passes the filter and query into the Amazon Bedrock agent."
   ]
  },
  {
   "cell_type": "code",
   "execution_count": null,
   "id": "142f0549-5ff8-405b-9182-0ab0c5439323",
   "metadata": {},
   "outputs": [],
   "source": [
    "text = \"I am Alex Anderson. How much will my employer match my 401k contribution?\"\n",
    "response = process_query(text)\n",
    "print(response)"
   ]
  },
  {
   "cell_type": "markdown",
   "id": "91c31610-917e-4cc7-b866-325a0ee23b75",
   "metadata": {},
   "source": [
    "### Method 3. Implicit metadata filtering\n",
    "![arch3](./images/architecture_3.png)"
   ]
  },
  {
   "cell_type": "markdown",
   "id": "8d50b2c9-458b-42ed-9b27-7101aa7e2c34",
   "metadata": {},
   "source": [
    "For implicit filtering, the Amazon Bedrock Knowledge Base execution role needs invoke permissions for Anthropic's Claude 3.5 Sonnet v2. Add the policy to the role."
   ]
  },
  {
   "cell_type": "code",
   "execution_count": null,
   "id": "b6e1a814-a797-4a41-91fb-c1e67f0df6f4",
   "metadata": {},
   "outputs": [],
   "source": [
    "kb_role_arn = kb.get_kb(kb_id)[\"knowledgeBase\"][\"roleArn\"]\n",
    "kb_role = kb_role_arn.rsplit(\"/\", 1)[1]\n",
    "\n",
    "policy_name = \"BedrockInferenceProfileAccess\"\n",
    "policy_document = {\n",
    "    \"Version\": \"2012-10-17\",\n",
    "    \"Statement\": [\n",
    "        {\n",
    "            \"Effect\": \"Allow\",\n",
    "            \"Action\": [\n",
    "                \"bedrock:GetInferenceProfile\",\n",
    "                \"bedrock:InvokeModel\",\n",
    "                \"bedrock:ListInferenceProfiles\",\n",
    "            ],\n",
    "            \"Resource\": [\n",
    "                f\"arn:aws:bedrock:us-east-1:{account_id}:inference-profile/us.anthropic.claude-3-5-sonnet-20241022-v2:0\",\n",
    "                \"arn:aws:bedrock:us-east-1::foundation-model/*\",\n",
    "                f\"arn:aws:bedrock:us-east-2:{account_id}:inference-profile/us.anthropic.claude-3-5-sonnet-20241022-v2:0\",\n",
    "                \"arn:aws:bedrock:us-east-2::foundation-model/*\",\n",
    "                f\"arn:aws:bedrock:us-west-2:{account_id}:inference-profile/us.anthropic.claude-3-5-sonnet-20241022-v2:0*\",\n",
    "                \"arn:aws:bedrock:us-west-2::foundation-model/*\",\n",
    "            ],\n",
    "        }\n",
    "    ],\n",
    "}\n",
    "\n",
    "response = iam_client.put_role_policy(\n",
    "    RoleName=kb_role, PolicyName=policy_name, PolicyDocument=json.dumps(policy_document)\n",
    ")"
   ]
  },
  {
   "cell_type": "markdown",
   "id": "9502e864-ffd1-45dd-9eaa-53c0b0abf903",
   "metadata": {},
   "source": [
    "Create the conversation history. We are giving the employee name through the conversation history because in a realistic scenario, a user talking to a chatbot would expect the chatbot to already know basic information such as name.\n",
    "\n",
    "In the real-life scenario, the employee would be logged into their company portal and the `user_name` value could be retrieved from the authentication protocol."
   ]
  },
  {
   "cell_type": "code",
   "execution_count": null,
   "id": "a75c756d-514d-4fc8-ade2-0aa1d51dfede",
   "metadata": {},
   "outputs": [],
   "source": [
    "user_name = \"Alex Anderson\"  # get from authentication\n",
    "\n",
    "conversation_history = [\n",
    "    {\n",
    "        \"content\": [\n",
    "            {\"text\": f\"Hi, I am {user_name}. Use my name to help with your search.\"}\n",
    "        ],\n",
    "        \"role\": \"user\",\n",
    "    },\n",
    "    {\n",
    "        \"content\": [{\"text\": f\"Hi {user_name}, how can I help you?\"}],\n",
    "        \"role\": \"assistant\",\n",
    "    },\n",
    "]"
   ]
  },
  {
   "cell_type": "markdown",
   "id": "07ca139c-fd44-4be6-8676-910a1bbe1f28",
   "metadata": {},
   "source": [
    "Construct the metadata attributes for the implicit filter:"
   ]
  },
  {
   "cell_type": "code",
   "execution_count": null,
   "id": "868c76c7-5e2b-4084-a46f-8ddcee90dd31",
   "metadata": {},
   "outputs": [],
   "source": [
    "metadata_attributes = [\n",
    "    {\n",
    "        \"description\": \"The name of the user. There should be a first and last name.\",\n",
    "        \"key\": \"employee_name\",\n",
    "        \"type\": \"STRING\",\n",
    "    },\n",
    "    {\n",
    "        \"description\": \"The type of information the user is looking for. The type should be either finance or healthcare.\",\n",
    "        \"key\": \"document_type\",\n",
    "        \"type\": \"STRING\",\n",
    "    },\n",
    "    {\n",
    "        \"description\": \"The role of the user. The role should be either manager or independent worker.\",\n",
    "        \"key\": \"role\",\n",
    "        \"type\": \"STRING\",\n",
    "    },\n",
    "]"
   ]
  },
  {
   "cell_type": "markdown",
   "id": "8a48f881-678a-451e-a6e4-d8856c7b6687",
   "metadata": {},
   "source": [
    "Pass the conversation history and metadata attributes:"
   ]
  },
  {
   "cell_type": "code",
   "execution_count": null,
   "id": "a703c25b-4dbe-4f6c-b5c0-be4dfcb32150",
   "metadata": {},
   "outputs": [],
   "source": [
    "session_state = {\n",
    "    \"conversationHistory\": {\"messages\": conversation_history},\n",
    "    \"knowledgeBaseConfigurations\": [\n",
    "        {\n",
    "            \"knowledgeBaseId\": kb_id,\n",
    "            \"retrievalConfiguration\": {\n",
    "                \"vectorSearchConfiguration\": {\n",
    "                    \"implicitFilterConfiguration\": {\n",
    "                        \"metadataAttributes\": metadata_attributes,\n",
    "                        \"modelArn\": f\"arn:aws:bedrock:us-east-1:{account_id}:inference-profile/us.anthropic.claude-3-5-sonnet-20241022-v2:0\",\n",
    "                    }\n",
    "                }\n",
    "            },\n",
    "        }\n",
    "    ],\n",
    "}"
   ]
  },
  {
   "cell_type": "markdown",
   "id": "43ad1fa0-33c5-4461-a53f-746bd0254ca1",
   "metadata": {},
   "source": [
    "Invoke the Amazon Bedrock agent and view the response. \n",
    "\n",
    "In this example, the Amazon Bedrock agent already knows the employee name due to its conversation history. The user query tells the Amazon Bedrock model to look for finance documents. Combining the conversation history and user query, the Amazon Bedrock model creates an implicit filter where `employee_name=Alex Anderson` and `document_type=finance`."
   ]
  },
  {
   "cell_type": "code",
   "execution_count": null,
   "id": "e38c540d-3f6c-4734-b341-ca33392ae989",
   "metadata": {},
   "outputs": [],
   "source": [
    "response = agents.invoke(\n",
    "    input_text=\"How much will my employer match my 401k contribution?\",\n",
    "    agent_id=agent_id,\n",
    "    agent_alias_id=agent_alias_id,\n",
    "    session_state=session_state,\n",
    ")\n",
    "print(response)"
   ]
  },
  {
   "cell_type": "markdown",
   "id": "cb2f832e-dc23-43be-bd4d-f35cd45aa1f8",
   "metadata": {},
   "source": [
    "### Clean up\n",
    "\n",
    "Run the cell below to delete all resources created in this notebook."
   ]
  },
  {
   "cell_type": "markdown",
   "id": "2cf36976-f160-45a2-877c-e77883a7559f",
   "metadata": {},
   "source": [
    "Delete AWS resources:"
   ]
  },
  {
   "cell_type": "code",
   "execution_count": null,
   "id": "627dced5-2d1e-4ede-810c-4475098f4679",
   "metadata": {},
   "outputs": [],
   "source": [
    "iam_client.delete_role_policy(RoleName=kb_role, PolicyName=policy_name)\n",
    "kb.delete_kb(kb_name=kb_name)\n",
    "agents.delete_agent(agent_name=agent_name)"
   ]
  },
  {
   "cell_type": "markdown",
   "id": "b60de47a-aab0-472b-81cb-91261b24eff6",
   "metadata": {},
   "source": [
    "Delete local files and folders:"
   ]
  },
  {
   "cell_type": "code",
   "execution_count": null,
   "id": "47998047-57dc-49a0-a0b8-affaa8f672c7",
   "metadata": {},
   "outputs": [],
   "source": [
    "!rm -r sample_documents"
   ]
  }
 ],
 "metadata": {
  "kernelspec": {
   "display_name": "Python 3 (ipykernel)",
   "language": "python",
   "name": "python3"
  },
  "language_info": {
   "codemirror_mode": {
    "name": "ipython",
    "version": 3
   },
   "file_extension": ".py",
   "mimetype": "text/x-python",
   "name": "python",
   "nbconvert_exporter": "python",
   "pygments_lexer": "ipython3",
   "version": "3.13.2"
  }
 },
 "nbformat": 4,
 "nbformat_minor": 5
}
